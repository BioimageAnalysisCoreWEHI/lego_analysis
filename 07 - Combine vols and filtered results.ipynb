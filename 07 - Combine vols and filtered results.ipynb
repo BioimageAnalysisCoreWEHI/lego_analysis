{
 "cells": [
  {
   "cell_type": "markdown",
   "id": "fb699e97",
   "metadata": {},
   "source": [
    "# Combine Vols and filtered results"
   ]
  },
  {
   "cell_type": "code",
   "execution_count": 22,
   "id": "cc67bde4",
   "metadata": {},
   "outputs": [],
   "source": [
    "import pandas as pd\n",
    "import os"
   ]
  },
  {
   "cell_type": "markdown",
   "id": "51d33aca",
   "metadata": {},
   "source": [
    "## Just fill in these details"
   ]
  },
  {
   "cell_type": "code",
   "execution_count": 23,
   "id": "3bdbc287",
   "metadata": {},
   "outputs": [],
   "source": [
    "base_path = '/vast/imaging/Lachie/sabrina/1069/'\n",
    "results_file = '20230422_1069_final_results.csv'\n",
    "volumes_file = 'Vessel Vols.csv'\n",
    "output_file = 'Whatever_you_want_to_call_the_FINAL_Definitely_final_version2_end.csv'"
   ]
  },
  {
   "cell_type": "code",
   "execution_count": 24,
   "id": "ea61488f",
   "metadata": {},
   "outputs": [],
   "source": [
    "main_df = pd.read_csv(os.path.join(base_path,results_file))\n",
    "vols_df = pd.read_csv(os.path.join(base_path,volumes_file))"
   ]
  },
  {
   "cell_type": "code",
   "execution_count": 25,
   "id": "d6cd112f",
   "metadata": {},
   "outputs": [],
   "source": [
    "merged_df = pd.merge(main_df, vols_df, left_on='MET_ID', right_on='metID ', how='left')\n",
    "merged_df.drop(columns='metID ', inplace=True)"
   ]
  },
  {
   "cell_type": "code",
   "execution_count": 26,
   "id": "ad91d200",
   "metadata": {},
   "outputs": [],
   "source": [
    "merged_df.to_csv(os.path.join(base_path,output_file), index=False)\n"
   ]
  },
  {
   "cell_type": "code",
   "execution_count": null,
   "id": "4db6544b",
   "metadata": {},
   "outputs": [],
   "source": []
  }
 ],
 "metadata": {
  "kernelspec": {
   "display_name": "Python (bac2)",
   "language": "python",
   "name": "bac2"
  },
  "language_info": {
   "codemirror_mode": {
    "name": "ipython",
    "version": 3
   },
   "file_extension": ".py",
   "mimetype": "text/x-python",
   "name": "python",
   "nbconvert_exporter": "python",
   "pygments_lexer": "ipython3",
   "version": "3.9.13"
  }
 },
 "nbformat": 4,
 "nbformat_minor": 5
}
