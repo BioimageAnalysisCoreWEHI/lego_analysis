{
 "cells": [
  {
   "cell_type": "markdown",
   "metadata": {},
   "source": [
    "Calculate shannon diversity index to investigate if there are diverse or dominant clones in the mouse lungs"
   ]
  },
  {
   "cell_type": "code",
   "execution_count": 1,
   "metadata": {},
   "outputs": [
    {
     "name": "stdout",
     "output_type": "stream",
     "text": [
      "Python version: 3.10.14 | packaged by Anaconda, Inc. | (main, Mar 21 2024, 16:20:14) [MSC v.1916 64 bit (AMD64)]\n",
      "Pandas version: 2.2.1\n",
      "Seaborn version: 0.13.2\n",
      "Numpy version: 1.23.4\n",
      "Matplotlib version: 3.8.4\n"
     ]
    },
    {
     "name": "stderr",
     "output_type": "stream",
     "text": [
      "C:\\Users\\rajasekhar.p\\AppData\\Local\\Temp\\ipykernel_11812\\3697179934.py:14: DtypeWarning: Columns (35) have mixed types. Specify dtype option on import or set low_memory=False.\n",
      "  merged_df = pd.read_csv(\"./MFP_IV_combined_raw_data.csv\")\n"
     ]
    },
    {
     "data": {
      "application/vnd.microsoft.datawrangler.viewer.v0+json": {
       "columns": [
        {
         "name": "index",
         "rawType": "int64",
         "type": "integer"
        },
        {
         "name": "MET_ID",
         "rawType": "float64",
         "type": "float"
        },
        {
         "name": "1",
         "rawType": "float64",
         "type": "float"
        },
        {
         "name": "10",
         "rawType": "float64",
         "type": "float"
        },
        {
         "name": "11",
         "rawType": "float64",
         "type": "float"
        },
        {
         "name": "100",
         "rawType": "float64",
         "type": "float"
        },
        {
         "name": "101",
         "rawType": "float64",
         "type": "float"
        },
        {
         "name": "110",
         "rawType": "float64",
         "type": "float"
        },
        {
         "name": "111",
         "rawType": "float64",
         "type": "float"
        },
        {
         "name": "Volume corrected",
         "rawType": "float64",
         "type": "float"
        },
        {
         "name": "min_dist",
         "rawType": "float64",
         "type": "float"
        },
        {
         "name": "max_dist",
         "rawType": "float64",
         "type": "float"
        },
        {
         "name": "mean_dist",
         "rawType": "float64",
         "type": "float"
        },
        {
         "name": "Nearest Vessel Thickness",
         "rawType": "float64",
         "type": "float"
        },
        {
         "name": "Vessel Volume",
         "rawType": "float64",
         "type": "float"
        },
        {
         "name": "Clone1",
         "rawType": "float64",
         "type": "float"
        },
        {
         "name": "Clone2",
         "rawType": "float64",
         "type": "float"
        },
        {
         "name": "Clone3",
         "rawType": "float64",
         "type": "float"
        },
        {
         "name": "Clone4",
         "rawType": "float64",
         "type": "float"
        },
        {
         "name": "Clone5",
         "rawType": "float64",
         "type": "float"
        },
        {
         "name": "Clone6",
         "rawType": "float64",
         "type": "float"
        },
        {
         "name": "Clone7",
         "rawType": "float64",
         "type": "float"
        },
        {
         "name": "Box.X.Min",
         "rawType": "float64",
         "type": "float"
        },
        {
         "name": "Box.X.Max",
         "rawType": "float64",
         "type": "float"
        },
        {
         "name": "Box.Y.Min",
         "rawType": "float64",
         "type": "float"
        },
        {
         "name": "Box.Y.Max",
         "rawType": "float64",
         "type": "float"
        },
        {
         "name": "Box.Z.Min",
         "rawType": "float64",
         "type": "float"
        },
        {
         "name": "Box.Z.Max",
         "rawType": "float64",
         "type": "float"
        },
        {
         "name": "MetNum_that_touches",
         "rawType": "float64",
         "type": "float"
        },
        {
         "name": "number_of_touchPoints",
         "rawType": "float64",
         "type": "float"
        },
        {
         "name": "total_touching_volume",
         "rawType": "float64",
         "type": "float"
        },
        {
         "name": "total_touching_surface_area/2",
         "rawType": "float64",
         "type": "float"
        },
        {
         "name": "centroid_x",
         "rawType": "float64",
         "type": "float"
        },
        {
         "name": "centroid_y",
         "rawType": "float64",
         "type": "float"
        },
        {
         "name": "centroid_z",
         "rawType": "float64",
         "type": "float"
        },
        {
         "name": "id",
         "rawType": "int64",
         "type": "integer"
        },
        {
         "name": "clone_type",
         "rawType": "object",
         "type": "string"
        },
        {
         "name": "treatment",
         "rawType": "object",
         "type": "string"
        },
        {
         "name": "total_lung_volume",
         "rawType": "float64",
         "type": "float"
        },
        {
         "name": "vessel_volume",
         "rawType": "float64",
         "type": "float"
        },
        {
         "name": "vessel_surface_area",
         "rawType": "float64",
         "type": "float"
        },
        {
         "name": "minor_axis",
         "rawType": "float64",
         "type": "float"
        },
        {
         "name": "major_axis",
         "rawType": "float64",
         "type": "float"
        },
        {
         "name": "elongation",
         "rawType": "float64",
         "type": "float"
        },
        {
         "name": "met_type_cat",
         "rawType": "object",
         "type": "string"
        },
        {
         "name": "radius_met",
         "rawType": "float64",
         "type": "float"
        },
        {
         "name": "min_dist_norm",
         "rawType": "float64",
         "type": "float"
        },
        {
         "name": "total_lung_no_vessel",
         "rawType": "float64",
         "type": "float"
        },
        {
         "name": "vol_norm",
         "rawType": "float64",
         "type": "float"
        },
        {
         "name": "vol_norm_no_vessel",
         "rawType": "float64",
         "type": "float"
        }
       ],
       "conversionMethod": "pd.DataFrame",
       "ref": "2ea2e2cc-5fab-48d6-bb11-b6f2d778919a",
       "rows": [
        [
         "0",
         "28.0",
         "0.011734583",
         "0.167992731",
         "0.0",
         "0.511049704",
         "0.0",
         "0.309222983",
         "0.0",
         "220225972.32",
         "0.0",
         "457.2391011",
         "156.8785642",
         "17.063404",
         "9756894.0",
         "1.0",
         "1.0",
         "0.0",
         "1.0",
         "0.0",
         "1.0",
         "0.0",
         "1427.0",
         "1664.0",
         "462.0",
         "799.0",
         "0.0",
         "202.0",
         "28.0",
         "430.0",
         "622010.194",
         "133559.001",
         "1545.5",
         "630.5",
         "80.52008855362413",
         "1064",
         "1_2_4_6",
         "IV",
         "27758497771.791",
         "852975560.819",
         "151017041.746",
         "161.04017710724827",
         "337.0",
         "2.092645487936637",
         "polyclonal",
         "374.62202659564537",
         "0.0",
         "26905522210.972",
         "0.00793364158718272",
         "0.008185158815843106"
        ],
        [
         "1",
         "50.0",
         "0.998808105",
         "0.001191895",
         "0.0",
         "0.0",
         "0.0",
         "0.0",
         "0.0",
         "65635.22505600001",
         "282.4320102",
         "334.2006344",
         "311.643467",
         "12.791227",
         "0.0",
         "1.0",
         "1.0",
         "0.0",
         "0.0",
         "0.0",
         "0.0",
         "0.0",
         "976.0",
         "989.0",
         "591.0",
         "605.0",
         "0.0",
         "23.0",
         "0.0",
         "0.0",
         "0.0",
         "0.0",
         "982.5",
         "598.0",
         "9.16812889471958",
         "1064",
         "1_2",
         "IV",
         "27758497771.791",
         "852975560.819",
         "151017041.746",
         "13.0",
         "18.33625778943916",
         "1.4104813684183968",
         "polyclonal",
         "25.023580824351523",
         "11.286634482190225",
         "26905522210.972",
         "2.3645092611135626e-06",
         "2.4394704009585862e-06"
        ],
        [
         "2",
         "89.0",
         "0.175398902",
         "0.099498449",
         "0.0",
         "0.545721492",
         "0.179381156",
         "0.0",
         "0.0",
         "124651697.04",
         "15.76182731",
         "630.1238624",
         "321.0816896",
         "15.334135",
         "8866896.49",
         "1.0",
         "1.0",
         "0.0",
         "1.0",
         "1.0",
         "0.0",
         "0.0",
         "615.0",
         "991.0",
         "654.0",
         "1013.0",
         "0.0",
         "210.0",
         "0.0",
         "0.0",
         "0.0",
         "0.0",
         "803.0",
         "833.5",
         "83.70900295178747",
         "1064",
         "1_2_4_5",
         "IV",
         "27758497771.791",
         "852975560.819",
         "151017041.746",
         "167.41800590357494",
         "376.0",
         "2.2458755136323787",
         "polyclonal",
         "309.8868842351629",
         "0.05086316366341878",
         "26905522210.972",
         "0.004490577914726881",
         "0.004632941002318378"
        ],
        [
         "3",
         "119.0",
         "0.974494492",
         "0.001365836",
         "0.0",
         "0.024139672",
         "0.0",
         "0.0",
         "0.0",
         "1326003.6528",
         "0.0",
         "104.2700743",
         "46.92124515",
         "22.536263",
         "225496.758",
         "1.0",
         "1.0",
         "0.0",
         "1.0",
         "0.0",
         "0.0",
         "0.0",
         "1583.0",
         "1622.0",
         "703.0",
         "758.0",
         "0.0",
         "47.0",
         "119.0",
         "22.0",
         "61197.3362",
         "9705.758",
         "1602.5",
         "730.5",
         "18.734872089209578",
         "1064",
         "1_2_4",
         "IV",
         "27758497771.791",
         "852975560.819",
         "151017041.746",
         "37.46974417841916",
         "55.0",
         "1.4678509609808723",
         "polyclonal",
         "68.15306163361053",
         "0.0",
         "26905522210.972",
         "4.7769287217967674e-05",
         "4.928369880363293e-05"
        ],
        [
         "4",
         "125.0",
         "0.975768585",
         "0.000219376",
         "0.0",
         "0.024012039",
         "0.0",
         "0.0",
         "0.0",
         "10163211.714",
         "0.0",
         "150.546361",
         "64.83950385",
         "17.669512",
         "2137142.2",
         "1.0",
         "1.0",
         "0.0",
         "1.0",
         "0.0",
         "0.0",
         "0.0",
         "1249.0",
         "1360.0",
         "718.0",
         "816.0",
         "0.0",
         "96.0",
         "125.0",
         "21.0",
         "22924.5924",
         "5663.0521",
         "1304.5",
         "767.0",
         "38.26697277795999",
         "1064",
         "1_2_4",
         "IV",
         "27758497771.791",
         "852975560.819",
         "151017041.746",
         "76.53394555591997",
         "111.0",
         "1.4503368301964414",
         "polyclonal",
         "134.3736521716231",
         "0.0",
         "26905522210.972",
         "0.00036612974511640014",
         "0.00037773701749061275"
        ]
       ],
       "shape": {
        "columns": 49,
        "rows": 5
       }
      },
      "text/html": [
       "<div>\n",
       "<style scoped>\n",
       "    .dataframe tbody tr th:only-of-type {\n",
       "        vertical-align: middle;\n",
       "    }\n",
       "\n",
       "    .dataframe tbody tr th {\n",
       "        vertical-align: top;\n",
       "    }\n",
       "\n",
       "    .dataframe thead th {\n",
       "        text-align: right;\n",
       "    }\n",
       "</style>\n",
       "<table border=\"1\" class=\"dataframe\">\n",
       "  <thead>\n",
       "    <tr style=\"text-align: right;\">\n",
       "      <th></th>\n",
       "      <th>MET_ID</th>\n",
       "      <th>1</th>\n",
       "      <th>10</th>\n",
       "      <th>11</th>\n",
       "      <th>100</th>\n",
       "      <th>101</th>\n",
       "      <th>110</th>\n",
       "      <th>111</th>\n",
       "      <th>Volume corrected</th>\n",
       "      <th>min_dist</th>\n",
       "      <th>...</th>\n",
       "      <th>vessel_surface_area</th>\n",
       "      <th>minor_axis</th>\n",
       "      <th>major_axis</th>\n",
       "      <th>elongation</th>\n",
       "      <th>met_type_cat</th>\n",
       "      <th>radius_met</th>\n",
       "      <th>min_dist_norm</th>\n",
       "      <th>total_lung_no_vessel</th>\n",
       "      <th>vol_norm</th>\n",
       "      <th>vol_norm_no_vessel</th>\n",
       "    </tr>\n",
       "  </thead>\n",
       "  <tbody>\n",
       "    <tr>\n",
       "      <th>0</th>\n",
       "      <td>28.0</td>\n",
       "      <td>0.011735</td>\n",
       "      <td>0.167993</td>\n",
       "      <td>0.0</td>\n",
       "      <td>0.511050</td>\n",
       "      <td>0.000000</td>\n",
       "      <td>0.309223</td>\n",
       "      <td>0.0</td>\n",
       "      <td>2.202260e+08</td>\n",
       "      <td>0.000000</td>\n",
       "      <td>...</td>\n",
       "      <td>1.510170e+08</td>\n",
       "      <td>161.040177</td>\n",
       "      <td>337.000000</td>\n",
       "      <td>2.092645</td>\n",
       "      <td>polyclonal</td>\n",
       "      <td>374.622027</td>\n",
       "      <td>0.000000</td>\n",
       "      <td>2.690552e+10</td>\n",
       "      <td>0.007934</td>\n",
       "      <td>0.008185</td>\n",
       "    </tr>\n",
       "    <tr>\n",
       "      <th>1</th>\n",
       "      <td>50.0</td>\n",
       "      <td>0.998808</td>\n",
       "      <td>0.001192</td>\n",
       "      <td>0.0</td>\n",
       "      <td>0.000000</td>\n",
       "      <td>0.000000</td>\n",
       "      <td>0.000000</td>\n",
       "      <td>0.0</td>\n",
       "      <td>6.563523e+04</td>\n",
       "      <td>282.432010</td>\n",
       "      <td>...</td>\n",
       "      <td>1.510170e+08</td>\n",
       "      <td>13.000000</td>\n",
       "      <td>18.336258</td>\n",
       "      <td>1.410481</td>\n",
       "      <td>polyclonal</td>\n",
       "      <td>25.023581</td>\n",
       "      <td>11.286634</td>\n",
       "      <td>2.690552e+10</td>\n",
       "      <td>0.000002</td>\n",
       "      <td>0.000002</td>\n",
       "    </tr>\n",
       "    <tr>\n",
       "      <th>2</th>\n",
       "      <td>89.0</td>\n",
       "      <td>0.175399</td>\n",
       "      <td>0.099498</td>\n",
       "      <td>0.0</td>\n",
       "      <td>0.545721</td>\n",
       "      <td>0.179381</td>\n",
       "      <td>0.000000</td>\n",
       "      <td>0.0</td>\n",
       "      <td>1.246517e+08</td>\n",
       "      <td>15.761827</td>\n",
       "      <td>...</td>\n",
       "      <td>1.510170e+08</td>\n",
       "      <td>167.418006</td>\n",
       "      <td>376.000000</td>\n",
       "      <td>2.245876</td>\n",
       "      <td>polyclonal</td>\n",
       "      <td>309.886884</td>\n",
       "      <td>0.050863</td>\n",
       "      <td>2.690552e+10</td>\n",
       "      <td>0.004491</td>\n",
       "      <td>0.004633</td>\n",
       "    </tr>\n",
       "    <tr>\n",
       "      <th>3</th>\n",
       "      <td>119.0</td>\n",
       "      <td>0.974494</td>\n",
       "      <td>0.001366</td>\n",
       "      <td>0.0</td>\n",
       "      <td>0.024140</td>\n",
       "      <td>0.000000</td>\n",
       "      <td>0.000000</td>\n",
       "      <td>0.0</td>\n",
       "      <td>1.326004e+06</td>\n",
       "      <td>0.000000</td>\n",
       "      <td>...</td>\n",
       "      <td>1.510170e+08</td>\n",
       "      <td>37.469744</td>\n",
       "      <td>55.000000</td>\n",
       "      <td>1.467851</td>\n",
       "      <td>polyclonal</td>\n",
       "      <td>68.153062</td>\n",
       "      <td>0.000000</td>\n",
       "      <td>2.690552e+10</td>\n",
       "      <td>0.000048</td>\n",
       "      <td>0.000049</td>\n",
       "    </tr>\n",
       "    <tr>\n",
       "      <th>4</th>\n",
       "      <td>125.0</td>\n",
       "      <td>0.975769</td>\n",
       "      <td>0.000219</td>\n",
       "      <td>0.0</td>\n",
       "      <td>0.024012</td>\n",
       "      <td>0.000000</td>\n",
       "      <td>0.000000</td>\n",
       "      <td>0.0</td>\n",
       "      <td>1.016321e+07</td>\n",
       "      <td>0.000000</td>\n",
       "      <td>...</td>\n",
       "      <td>1.510170e+08</td>\n",
       "      <td>76.533946</td>\n",
       "      <td>111.000000</td>\n",
       "      <td>1.450337</td>\n",
       "      <td>polyclonal</td>\n",
       "      <td>134.373652</td>\n",
       "      <td>0.000000</td>\n",
       "      <td>2.690552e+10</td>\n",
       "      <td>0.000366</td>\n",
       "      <td>0.000378</td>\n",
       "    </tr>\n",
       "  </tbody>\n",
       "</table>\n",
       "<p>5 rows × 49 columns</p>\n",
       "</div>"
      ],
      "text/plain": [
       "   MET_ID         1        10   11       100       101       110  111  \\\n",
       "0    28.0  0.011735  0.167993  0.0  0.511050  0.000000  0.309223  0.0   \n",
       "1    50.0  0.998808  0.001192  0.0  0.000000  0.000000  0.000000  0.0   \n",
       "2    89.0  0.175399  0.099498  0.0  0.545721  0.179381  0.000000  0.0   \n",
       "3   119.0  0.974494  0.001366  0.0  0.024140  0.000000  0.000000  0.0   \n",
       "4   125.0  0.975769  0.000219  0.0  0.024012  0.000000  0.000000  0.0   \n",
       "\n",
       "   Volume corrected    min_dist  ...  vessel_surface_area  minor_axis  \\\n",
       "0      2.202260e+08    0.000000  ...         1.510170e+08  161.040177   \n",
       "1      6.563523e+04  282.432010  ...         1.510170e+08   13.000000   \n",
       "2      1.246517e+08   15.761827  ...         1.510170e+08  167.418006   \n",
       "3      1.326004e+06    0.000000  ...         1.510170e+08   37.469744   \n",
       "4      1.016321e+07    0.000000  ...         1.510170e+08   76.533946   \n",
       "\n",
       "   major_axis  elongation  met_type_cat  radius_met  min_dist_norm  \\\n",
       "0  337.000000    2.092645    polyclonal  374.622027       0.000000   \n",
       "1   18.336258    1.410481    polyclonal   25.023581      11.286634   \n",
       "2  376.000000    2.245876    polyclonal  309.886884       0.050863   \n",
       "3   55.000000    1.467851    polyclonal   68.153062       0.000000   \n",
       "4  111.000000    1.450337    polyclonal  134.373652       0.000000   \n",
       "\n",
       "   total_lung_no_vessel  vol_norm  vol_norm_no_vessel  \n",
       "0          2.690552e+10  0.007934            0.008185  \n",
       "1          2.690552e+10  0.000002            0.000002  \n",
       "2          2.690552e+10  0.004491            0.004633  \n",
       "3          2.690552e+10  0.000048            0.000049  \n",
       "4          2.690552e+10  0.000366            0.000378  \n",
       "\n",
       "[5 rows x 49 columns]"
      ]
     },
     "execution_count": 1,
     "metadata": {},
     "output_type": "execute_result"
    }
   ],
   "source": [
    "import pandas as pd \n",
    "import matplotlib.pyplot as plt\n",
    "import seaborn as sns\n",
    "import numpy as np\n",
    "\n",
    "#print versions of libraries\n",
    "import sys \n",
    "print(f\"Python version: {sys.version}\")\n",
    "print(f\"Pandas version: {pd.__version__}\")\n",
    "print(f\"Seaborn version: {sns.__version__}\")\n",
    "print(f\"Numpy version: {np.__version__}\")\n",
    "print(f\"Matplotlib version: {plt.matplotlib.__version__}\")\n",
    "\n",
    "merged_df = pd.read_csv(\"./MFP_IV_combined_raw_data.csv\")\n",
    "#convert column clone_type insto string\n",
    "merged_df['clone_type'] = merged_df['clone_type'].astype(str)\n",
    "\n",
    "#define a function to get get radius given volume \n",
    "def get_radius(volume):\n",
    "    return (3*volume/(4*np.pi))**(1/3)\n",
    "\n",
    "#add a column for radius\n",
    "merged_df['radius_met'] = merged_df['Volume corrected'].apply(get_radius)\n",
    "#normalized min distance to radius_met\n",
    "merged_df['min_dist_norm'] = merged_df['min_dist'] / merged_df['radius_met']\n",
    "merged_df['total_lung_no_vessel'] = merged_df['total_lung_volume'] - merged_df['vessel_volume']\n",
    "merged_df[\"vol_norm\"] = merged_df[\"Volume corrected\"] / merged_df[\"total_lung_volume\"]\n",
    "merged_df[\"vol_norm_no_vessel\"] = merged_df[\"Volume corrected\"] / merged_df['total_lung_no_vessel']\n",
    "\n",
    "merged_df.head()\n"
   ]
  },
  {
   "cell_type": "markdown",
   "metadata": {},
   "source": [
    "Calculate the shannon diversity index (SDI) for mouse lungs\n",
    "\n",
    "If the lung has more diverse clones, then it will have a higher SDI. If it has a few dominant clones, it will have a lower SDI\n",
    "\n",
    "This takes into account monoclonal and polyclonal METs as well.. \n"
   ]
  },
  {
   "cell_type": "code",
   "execution_count": 2,
   "metadata": {},
   "outputs": [],
   "source": [
    "#Function to calculate shannon diversity index\n",
    "def shannon_diversity_index(df):\n",
    "    #get the total number of values\n",
    "    total = len(df)\n",
    "    #initialize the shannon index\n",
    "    shannon_index = 0\n",
    "    #loop through each unique value\n",
    "    for value in df.unique():\n",
    "        #get the proportion of the value\n",
    "        p = len(df[df == value]) / total\n",
    "        #add the value to the shannon index\n",
    "        shannon_index += p * np.log(p)\n",
    "    #return the negative shannon index\n",
    "    return -shannon_index"
   ]
  },
  {
   "cell_type": "code",
   "execution_count": 18,
   "metadata": {},
   "outputs": [
    {
     "data": {
      "application/vnd.microsoft.datawrangler.viewer.v0+json": {
       "columns": [
        {
         "name": "index",
         "rawType": "int64",
         "type": "integer"
        },
        {
         "name": "id",
         "rawType": "int64",
         "type": "integer"
        },
        {
         "name": "treatment",
         "rawType": "object",
         "type": "string"
        },
        {
         "name": "shannon_div",
         "rawType": "float64",
         "type": "float"
        }
       ],
       "conversionMethod": "pd.DataFrame",
       "ref": "51c14ec1-fdb8-435b-b5bb-de260f485014",
       "rows": [
        [
         "0",
         "1064",
         "IV",
         "1.479084700991088"
        ],
        [
         "1",
         "1066",
         "IV",
         "1.1163371154382085"
        ],
        [
         "2",
         "1067",
         "MFP",
         "1.072888041034669"
        ],
        [
         "3",
         "1069",
         "MFP",
         "1.5583707174671702"
        ],
        [
         "4",
         "1070",
         "MFP",
         "0.6293489616524263"
        ],
        [
         "5",
         "1381",
         "MFP",
         "1.6982199534972047"
        ],
        [
         "6",
         "883",
         "IV",
         "0.849123581665174"
        ],
        [
         "7",
         "934",
         "IV",
         "1.4148464654125208"
        ],
        [
         "8",
         "935",
         "IV",
         "0.1021491449270269"
        ]
       ],
       "shape": {
        "columns": 3,
        "rows": 9
       }
      },
      "text/html": [
       "<div>\n",
       "<style scoped>\n",
       "    .dataframe tbody tr th:only-of-type {\n",
       "        vertical-align: middle;\n",
       "    }\n",
       "\n",
       "    .dataframe tbody tr th {\n",
       "        vertical-align: top;\n",
       "    }\n",
       "\n",
       "    .dataframe thead th {\n",
       "        text-align: right;\n",
       "    }\n",
       "</style>\n",
       "<table border=\"1\" class=\"dataframe\">\n",
       "  <thead>\n",
       "    <tr style=\"text-align: right;\">\n",
       "      <th></th>\n",
       "      <th>id</th>\n",
       "      <th>treatment</th>\n",
       "      <th>shannon_div</th>\n",
       "    </tr>\n",
       "  </thead>\n",
       "  <tbody>\n",
       "    <tr>\n",
       "      <th>0</th>\n",
       "      <td>1064</td>\n",
       "      <td>IV</td>\n",
       "      <td>1.479085</td>\n",
       "    </tr>\n",
       "    <tr>\n",
       "      <th>1</th>\n",
       "      <td>1066</td>\n",
       "      <td>IV</td>\n",
       "      <td>1.116337</td>\n",
       "    </tr>\n",
       "    <tr>\n",
       "      <th>2</th>\n",
       "      <td>1067</td>\n",
       "      <td>MFP</td>\n",
       "      <td>1.072888</td>\n",
       "    </tr>\n",
       "    <tr>\n",
       "      <th>3</th>\n",
       "      <td>1069</td>\n",
       "      <td>MFP</td>\n",
       "      <td>1.558371</td>\n",
       "    </tr>\n",
       "    <tr>\n",
       "      <th>4</th>\n",
       "      <td>1070</td>\n",
       "      <td>MFP</td>\n",
       "      <td>0.629349</td>\n",
       "    </tr>\n",
       "    <tr>\n",
       "      <th>5</th>\n",
       "      <td>1381</td>\n",
       "      <td>MFP</td>\n",
       "      <td>1.698220</td>\n",
       "    </tr>\n",
       "    <tr>\n",
       "      <th>6</th>\n",
       "      <td>883</td>\n",
       "      <td>IV</td>\n",
       "      <td>0.849124</td>\n",
       "    </tr>\n",
       "    <tr>\n",
       "      <th>7</th>\n",
       "      <td>934</td>\n",
       "      <td>IV</td>\n",
       "      <td>1.414846</td>\n",
       "    </tr>\n",
       "    <tr>\n",
       "      <th>8</th>\n",
       "      <td>935</td>\n",
       "      <td>IV</td>\n",
       "      <td>0.102149</td>\n",
       "    </tr>\n",
       "  </tbody>\n",
       "</table>\n",
       "</div>"
      ],
      "text/plain": [
       "     id treatment  shannon_div\n",
       "0  1064        IV     1.479085\n",
       "1  1066        IV     1.116337\n",
       "2  1067       MFP     1.072888\n",
       "3  1069       MFP     1.558371\n",
       "4  1070       MFP     0.629349\n",
       "5  1381       MFP     1.698220\n",
       "6   883        IV     0.849124\n",
       "7   934        IV     1.414846\n",
       "8   935        IV     0.102149"
      ]
     },
     "execution_count": 18,
     "metadata": {},
     "output_type": "execute_result"
    }
   ],
   "source": [
    "#apply a shannon diversity index function to clone_type column and create a new column. Group it by id\n",
    "shannon_div = merged_df.groupby(['treatment','id'])['clone_type'].transform(shannon_diversity_index)\n",
    "#rename clone_type column to shannon_div\n",
    "shannon_div = shannon_div.rename('shannon_div')\n",
    "#add id column\n",
    "shannon_div = pd.concat([merged_df[['id','treatment']], shannon_div], axis=1)\n",
    "#get unique values of id and shannon_div\n",
    "shannon_div = shannon_div.drop_duplicates().reset_index(drop=True)\n",
    "shannon_div"
   ]
  },
  {
   "cell_type": "code",
   "execution_count": 19,
   "metadata": {},
   "outputs": [
    {
     "name": "stderr",
     "output_type": "stream",
     "text": [
      "C:\\Users\\rajasekhar.p\\AppData\\Local\\Temp\\ipykernel_11812\\3608417856.py:2: FutureWarning: \n",
      "\n",
      "Setting a gradient palette using color= is deprecated and will be removed in v0.14.0. Set `palette='dark:black'` for the same effect.\n",
      "\n",
      "  sns.swarmplot(data=shannon_div, hue='treatment', y='shannon_div', dodge=True, color=\"black\",legend=False)\n",
      "The PostScript backend does not support transparency; partially transparent artists will be rendered opaque.\n"
     ]
    },
    {
     "data": {
      "image/png": "[encoded data removed]",
      "text/plain": [
       "<Figure size 640x480 with 1 Axes>"
      ]
     },
     "metadata": {},
     "output_type": "display_data"
    }
   ],
   "source": [
    "sns.boxplot(data=shannon_div, hue='treatment', y='shannon_div')\n",
    "sns.swarmplot(data=shannon_div, hue='treatment', y='shannon_div', dodge=True, color=\"black\",legend=False)\n",
    "plt.ylim(0,2)\n",
    "#legend outside plot\n",
    "plt.legend(loc='center left', bbox_to_anchor=(1, 0.5))\n",
    "plt.title(\"Shannon Diversity Index separated by treatment\")\n",
    "\n",
    "plt.savefig(\"./final_graphs/supplementary/suppfig3_shannon_diversity_treatment.eps\", format=\"eps\",dpi=300)"
   ]
  },
  {
   "cell_type": "code",
   "execution_count": 20,
   "metadata": {},
   "outputs": [
    {
     "name": "stdout",
     "output_type": "stream",
     "text": [
      "TtestResult(statistic=-0.6976962776641318, pvalue=0.5078719611513762, df=7.0)\n"
     ]
    }
   ],
   "source": [
    "from scipy.stats import ttest_ind,ttest_rel\n",
    "#perform a t-test on the shannon diversity index between the two groups\n",
    "\n",
    "shannon_idx_mfp = shannon_div[shannon_div['treatment'] == 'MFP']['shannon_div'].unique()\n",
    "shannon_idx_iv = shannon_div[shannon_div['treatment'] == 'IV']['shannon_div'].unique()\n",
    "\n",
    "print(ttest_ind(shannon_idx_iv,shannon_idx_mfp))\n"
   ]
  },
  {
   "cell_type": "markdown",
   "metadata": {},
   "source": [
    "We have looked at overall SDI. But what about the SDI for monoclonal and polyclonal METs?\n",
    "\n",
    "Are monoclonal clones diverse or not compared to polyclonal and what about comparing it across treatments?"
   ]
  },
  {
   "cell_type": "code",
   "execution_count": 23,
   "metadata": {},
   "outputs": [
    {
     "data": {
      "application/vnd.microsoft.datawrangler.viewer.v0+json": {
       "columns": [
        {
         "name": "index",
         "rawType": "int64",
         "type": "integer"
        },
        {
         "name": "id",
         "rawType": "int64",
         "type": "integer"
        },
        {
         "name": "treatment",
         "rawType": "object",
         "type": "string"
        },
        {
         "name": "met_type_cat",
         "rawType": "object",
         "type": "string"
        },
        {
         "name": "shannon_div_met_type",
         "rawType": "float64",
         "type": "float"
        }
       ],
       "conversionMethod": "pd.DataFrame",
       "ref": "c1398e40-40ae-45d2-9883-eabeb20fdd23",
       "rows": [
        [
         "0",
         "1064",
         "IV",
         "polyclonal",
         "1.774456538743659"
        ],
        [
         "1",
         "1064",
         "IV",
         "monoclonal",
         "0.9458230409676545"
        ],
        [
         "2",
         "1066",
         "IV",
         "polyclonal",
         "2.0585684400063364"
        ],
        [
         "3",
         "1066",
         "IV",
         "monoclonal",
         "0.7672491466814979"
        ],
        [
         "4",
         "1067",
         "MFP",
         "monoclonal",
         "0.8804035810766349"
        ],
        [
         "5",
         "1067",
         "MFP",
         "polyclonal",
         "1.312125727442686"
        ],
        [
         "6",
         "1069",
         "MFP",
         "polyclonal",
         "2.156401438984701"
        ],
        [
         "7",
         "1069",
         "MFP",
         "monoclonal",
         "0.9431865531696784"
        ],
        [
         "8",
         "1070",
         "MFP",
         "polyclonal",
         "1.4727128201157724"
        ],
        [
         "9",
         "1070",
         "MFP",
         "monoclonal",
         "0.3272230669894912"
        ],
        [
         "10",
         "1381",
         "MFP",
         "polyclonal",
         "1.8679824098253996"
        ],
        [
         "11",
         "1381",
         "MFP",
         "monoclonal",
         "1.3879171087299418"
        ],
        [
         "12",
         "883",
         "IV",
         "polyclonal",
         "1.7424886226156842"
        ],
        [
         "13",
         "883",
         "IV",
         "monoclonal",
         "0.6567787392743474"
        ],
        [
         "14",
         "934",
         "IV",
         "polyclonal",
         "2.081996496037906"
        ],
        [
         "15",
         "934",
         "IV",
         "monoclonal",
         "1.1632769304244939"
        ],
        [
         "16",
         "935",
         "IV",
         "polyclonal",
         "1.749131289484699"
        ],
        [
         "17",
         "935",
         "IV",
         "monoclonal",
         "0.026048768411746664"
        ]
       ],
       "shape": {
        "columns": 4,
        "rows": 18
       }
      },
      "text/html": [
       "<div>\n",
       "<style scoped>\n",
       "    .dataframe tbody tr th:only-of-type {\n",
       "        vertical-align: middle;\n",
       "    }\n",
       "\n",
       "    .dataframe tbody tr th {\n",
       "        vertical-align: top;\n",
       "    }\n",
       "\n",
       "    .dataframe thead th {\n",
       "        text-align: right;\n",
       "    }\n",
       "</style>\n",
       "<table border=\"1\" class=\"dataframe\">\n",
       "  <thead>\n",
       "    <tr style=\"text-align: right;\">\n",
       "      <th></th>\n",
       "      <th>id</th>\n",
       "      <th>treatment</th>\n",
       "      <th>met_type_cat</th>\n",
       "      <th>shannon_div_met_type</th>\n",
       "    </tr>\n",
       "  </thead>\n",
       "  <tbody>\n",
       "    <tr>\n",
       "      <th>0</th>\n",
       "      <td>1064</td>\n",
       "      <td>IV</td>\n",
       "      <td>polyclonal</td>\n",
       "      <td>1.774457</td>\n",
       "    </tr>\n",
       "    <tr>\n",
       "      <th>1</th>\n",
       "      <td>1064</td>\n",
       "      <td>IV</td>\n",
       "      <td>monoclonal</td>\n",
       "      <td>0.945823</td>\n",
       "    </tr>\n",
       "    <tr>\n",
       "      <th>2</th>\n",
       "      <td>1066</td>\n",
       "      <td>IV</td>\n",
       "      <td>polyclonal</td>\n",
       "      <td>2.058568</td>\n",
       "    </tr>\n",
       "    <tr>\n",
       "      <th>3</th>\n",
       "      <td>1066</td>\n",
       "      <td>IV</td>\n",
       "      <td>monoclonal</td>\n",
       "      <td>0.767249</td>\n",
       "    </tr>\n",
       "    <tr>\n",
       "      <th>4</th>\n",
       "      <td>1067</td>\n",
       "      <td>MFP</td>\n",
       "      <td>monoclonal</td>\n",
       "      <td>0.880404</td>\n",
       "    </tr>\n",
       "    <tr>\n",
       "      <th>5</th>\n",
       "      <td>1067</td>\n",
       "      <td>MFP</td>\n",
       "      <td>polyclonal</td>\n",
       "      <td>1.312126</td>\n",
       "    </tr>\n",
       "    <tr>\n",
       "      <th>6</th>\n",
       "      <td>1069</td>\n",
       "      <td>MFP</td>\n",
       "      <td>polyclonal</td>\n",
       "      <td>2.156401</td>\n",
       "    </tr>\n",
       "    <tr>\n",
       "      <th>7</th>\n",
       "      <td>1069</td>\n",
       "      <td>MFP</td>\n",
       "      <td>monoclonal</td>\n",
       "      <td>0.943187</td>\n",
       "    </tr>\n",
       "    <tr>\n",
       "      <th>8</th>\n",
       "      <td>1070</td>\n",
       "      <td>MFP</td>\n",
       "      <td>polyclonal</td>\n",
       "      <td>1.472713</td>\n",
       "    </tr>\n",
       "    <tr>\n",
       "      <th>9</th>\n",
       "      <td>1070</td>\n",
       "      <td>MFP</td>\n",
       "      <td>monoclonal</td>\n",
       "      <td>0.327223</td>\n",
       "    </tr>\n",
       "    <tr>\n",
       "      <th>10</th>\n",
       "      <td>1381</td>\n",
       "      <td>MFP</td>\n",
       "      <td>polyclonal</td>\n",
       "      <td>1.867982</td>\n",
       "    </tr>\n",
       "    <tr>\n",
       "      <th>11</th>\n",
       "      <td>1381</td>\n",
       "      <td>MFP</td>\n",
       "      <td>monoclonal</td>\n",
       "      <td>1.387917</td>\n",
       "    </tr>\n",
       "    <tr>\n",
       "      <th>12</th>\n",
       "      <td>883</td>\n",
       "      <td>IV</td>\n",
       "      <td>polyclonal</td>\n",
       "      <td>1.742489</td>\n",
       "    </tr>\n",
       "    <tr>\n",
       "      <th>13</th>\n",
       "      <td>883</td>\n",
       "      <td>IV</td>\n",
       "      <td>monoclonal</td>\n",
       "      <td>0.656779</td>\n",
       "    </tr>\n",
       "    <tr>\n",
       "      <th>14</th>\n",
       "      <td>934</td>\n",
       "      <td>IV</td>\n",
       "      <td>polyclonal</td>\n",
       "      <td>2.081996</td>\n",
       "    </tr>\n",
       "    <tr>\n",
       "      <th>15</th>\n",
       "      <td>934</td>\n",
       "      <td>IV</td>\n",
       "      <td>monoclonal</td>\n",
       "      <td>1.163277</td>\n",
       "    </tr>\n",
       "    <tr>\n",
       "      <th>16</th>\n",
       "      <td>935</td>\n",
       "      <td>IV</td>\n",
       "      <td>polyclonal</td>\n",
       "      <td>1.749131</td>\n",
       "    </tr>\n",
       "    <tr>\n",
       "      <th>17</th>\n",
       "      <td>935</td>\n",
       "      <td>IV</td>\n",
       "      <td>monoclonal</td>\n",
       "      <td>0.026049</td>\n",
       "    </tr>\n",
       "  </tbody>\n",
       "</table>\n",
       "</div>"
      ],
      "text/plain": [
       "      id treatment met_type_cat  shannon_div_met_type\n",
       "0   1064        IV   polyclonal              1.774457\n",
       "1   1064        IV   monoclonal              0.945823\n",
       "2   1066        IV   polyclonal              2.058568\n",
       "3   1066        IV   monoclonal              0.767249\n",
       "4   1067       MFP   monoclonal              0.880404\n",
       "5   1067       MFP   polyclonal              1.312126\n",
       "6   1069       MFP   polyclonal              2.156401\n",
       "7   1069       MFP   monoclonal              0.943187\n",
       "8   1070       MFP   polyclonal              1.472713\n",
       "9   1070       MFP   monoclonal              0.327223\n",
       "10  1381       MFP   polyclonal              1.867982\n",
       "11  1381       MFP   monoclonal              1.387917\n",
       "12   883        IV   polyclonal              1.742489\n",
       "13   883        IV   monoclonal              0.656779\n",
       "14   934        IV   polyclonal              2.081996\n",
       "15   934        IV   monoclonal              1.163277\n",
       "16   935        IV   polyclonal              1.749131\n",
       "17   935        IV   monoclonal              0.026049"
      ]
     },
     "execution_count": 23,
     "metadata": {},
     "output_type": "execute_result"
    }
   ],
   "source": [
    "#apply a shannon diversity index function to clone_type column and create a new column. Group it by id\n",
    "shannon_div_met_type = merged_df.groupby(['treatment','id','met_type_cat'])['clone_type'].transform(shannon_diversity_index)\n",
    "#rename clone_type column to shannon_div\n",
    "shannon_div_met_type = shannon_div_met_type.rename('shannon_div_met_type')\n",
    "#add id column\n",
    "shannon_div_met_type = pd.concat([merged_df[['id','treatment','met_type_cat']], shannon_div_met_type], axis=1)\n",
    "#get unique values of id and shannon_div\n",
    "shannon_div_met_type = shannon_div_met_type.drop_duplicates().reset_index(drop=True)\n",
    "shannon_div_met_type"
   ]
  },
  {
   "cell_type": "code",
   "execution_count": 30,
   "metadata": {},
   "outputs": [
    {
     "name": "stderr",
     "output_type": "stream",
     "text": [
      "C:\\Users\\rajasekhar.p\\AppData\\Local\\Temp\\ipykernel_11812\\3592992324.py:5: FutureWarning: \n",
      "\n",
      "Setting a gradient palette using color= is deprecated and will be removed in v0.14.0. Set `palette='dark:black'` for the same effect.\n",
      "\n",
      "  sns.swarmplot(data=shannon_div_met_type, x='treatment', y='shannon_div_met_type', hue='met_type_cat', dodge=True, color=\"black\",legend=False)\n",
      "The PostScript backend does not support transparency; partially transparent artists will be rendered opaque.\n"
     ]
    },
    {
     "data": {
      "image/png": "[encoded data removed]",
      "text/plain": [
       "<Figure size 640x480 with 1 Axes>"
      ]
     },
     "metadata": {},
     "output_type": "display_data"
    }
   ],
   "source": [
    "#plot shannon diversity index separated by treatment and metastasis type\n",
    "#convert met_type_cat to category\n",
    "shannon_div_met_type['met_type_cat'] = shannon_div_met_type['met_type_cat'].astype('category')\n",
    "sns.boxplot(data=shannon_div_met_type, x='treatment', y='shannon_div_met_type', hue='met_type_cat',showfliers=False)\n",
    "sns.swarmplot(data=shannon_div_met_type, x='treatment', y='shannon_div_met_type', hue='met_type_cat', dodge=True, color=\"black\",legend=False)\n",
    "plt.legend(loc='center left', bbox_to_anchor=(1, 0.5))\n",
    "plt.title(\"Shannon Diversity Index (treatment and met type)\")\n",
    "plt.savefig(\"./final_graphs/supplementary/suppfig3_shannon_diversity_treatment_met_type.eps\", format=\"eps\",dpi=300)\n"
   ]
  },
  {
   "cell_type": "code",
   "execution_count": 33,
   "metadata": {},
   "outputs": [
    {
     "name": "stdout",
     "output_type": "stream",
     "text": [
      "T-test for IV treatment monoclonal vs polyclonal\n",
      "TtestResult(statistic=-7.342423993965497, pvalue=0.0018319346305922036, df=4)\n",
      "\n",
      "T-test for MFP treatment monoclonal vs polyclonal\n",
      "TtestResult(statistic=-3.9021009805194042, pvalue=0.029879097605433478, df=3)\n"
     ]
    }
   ],
   "source": [
    "#stats ttest_rel for monoclonal vs poly for each treatment\n",
    "\n",
    "mono_iv = shannon_div_met_type[(shannon_div_met_type['treatment'] == 'IV') & (shannon_div_met_type['met_type_cat'] == 'monoclonal')]['shannon_div_met_type']\n",
    "poly_iv = shannon_div_met_type[(shannon_div_met_type['treatment'] == 'IV') & (shannon_div_met_type['met_type_cat'] == 'polyclonal')]['shannon_div_met_type']\n",
    "\n",
    "mono_mfp = shannon_div_met_type[(shannon_div_met_type['treatment'] == 'MFP') & (shannon_div_met_type['met_type_cat'] == 'monoclonal')]['shannon_div_met_type']\n",
    "poly_mfp = shannon_div_met_type[(shannon_div_met_type['treatment'] == 'MFP') & (shannon_div_met_type['met_type_cat'] == 'polyclonal')]['shannon_div_met_type']\n",
    "\n",
    "print(\"T-test for IV treatment monoclonal vs polyclonal\")\n",
    "print(ttest_rel(mono_iv,poly_iv))\n",
    "\n",
    "print(\"\\nT-test for MFP treatment monoclonal vs polyclonal\")\n",
    "print(ttest_rel(mono_mfp,poly_mfp))\n"
   ]
  }
 ],
 "metadata": {
  "kernelspec": {
   "display_name": "spatialdata",
   "language": "python",
   "name": "python3"
  },
  "language_info": {
   "codemirror_mode": {
    "name": "ipython",
    "version": 3
   },
   "file_extension": ".py",
   "mimetype": "text/x-python",
   "name": "python",
   "nbconvert_exporter": "python",
   "pygments_lexer": "ipython3",
   "version": "3.10.14"
  }
 },
 "nbformat": 4,
 "nbformat_minor": 2
}
