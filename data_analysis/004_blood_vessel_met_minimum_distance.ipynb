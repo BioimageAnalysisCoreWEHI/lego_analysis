{
 "cells": [
  {
   "cell_type": "markdown",
   "metadata": {},
   "source": [
    "## Blood vessel and MET relationships\n",
    "\n",
    "### Distance\n",
    "\n",
    "This notebook analyzes the distance of metastases (METs) to blood vessels, comparing monoclonal and polyclonal METs across different treatments (IV and MFP). \n",
    "\n",
    "Also utilizes normalized distance, where we calculate distnance relative to size of each MET\n",
    "\n",
    "### Diameter: \n",
    "Calculate metrics about closes vessel thickness\n",
    "\n",
    "\n",
    "- supp 6 a, b, c, \n",
    "- Fig 5d"
   ]
  },
  {
   "cell_type": "code",
   "execution_count": 1,
   "metadata": {},
   "outputs": [
    {
     "name": "stderr",
     "output_type": "stream",
     "text": [
      "C:\\Users\\rajasekhar.p\\AppData\\Local\\Temp\\ipykernel_25012\\2788590175.py:10: DtypeWarning: Columns (35) have mixed types. Specify dtype option on import or set low_memory=False.\n",
      "  merged_df = pd.read_csv(\"./MFP_IV_combined_raw_data.csv\")\n"
     ]
    },
    {
     "data": {
      "application/vnd.microsoft.datawrangler.viewer.v0+json": {
       "columns": [
        {
         "name": "index",
         "rawType": "int64",
         "type": "integer"
        },
        {
         "name": "MET_ID",
         "rawType": "float64",
         "type": "float"
        },
        {
         "name": "1",
         "rawType": "float64",
         "type": "float"
        },
        {
         "name": "10",
         "rawType": "float64",
         "type": "float"
        },
        {
         "name": "11",
         "rawType": "float64",
         "type": "float"
        },
        {
         "name": "100",
         "rawType": "float64",
         "type": "float"
        },
        {
         "name": "101",
         "rawType": "float64",
         "type": "float"
        },
        {
         "name": "110",
         "rawType": "float64",
         "type": "float"
        },
        {
         "name": "111",
         "rawType": "float64",
         "type": "float"
        },
        {
         "name": "Volume corrected",
         "rawType": "float64",
         "type": "float"
        },
        {
         "name": "min_dist",
         "rawType": "float64",
         "type": "float"
        },
        {
         "name": "max_dist",
         "rawType": "float64",
         "type": "float"
        },
        {
         "name": "mean_dist",
         "rawType": "float64",
         "type": "float"
        },
        {
         "name": "Nearest Vessel Thickness",
         "rawType": "float64",
         "type": "float"
        },
        {
         "name": "Vessel Volume",
         "rawType": "float64",
         "type": "float"
        },
        {
         "name": "Clone1",
         "rawType": "float64",
         "type": "float"
        },
        {
         "name": "Clone2",
         "rawType": "float64",
         "type": "float"
        },
        {
         "name": "Clone3",
         "rawType": "float64",
         "type": "float"
        },
        {
         "name": "Clone4",
         "rawType": "float64",
         "type": "float"
        },
        {
         "name": "Clone5",
         "rawType": "float64",
         "type": "float"
        },
        {
         "name": "Clone6",
         "rawType": "float64",
         "type": "float"
        },
        {
         "name": "Clone7",
         "rawType": "float64",
         "type": "float"
        },
        {
         "name": "Box.X.Min",
         "rawType": "float64",
         "type": "float"
        },
        {
         "name": "Box.X.Max",
         "rawType": "float64",
         "type": "float"
        },
        {
         "name": "Box.Y.Min",
         "rawType": "float64",
         "type": "float"
        },
        {
         "name": "Box.Y.Max",
         "rawType": "float64",
         "type": "float"
        },
        {
         "name": "Box.Z.Min",
         "rawType": "float64",
         "type": "float"
        },
        {
         "name": "Box.Z.Max",
         "rawType": "float64",
         "type": "float"
        },
        {
         "name": "MetNum_that_touches",
         "rawType": "float64",
         "type": "float"
        },
        {
         "name": "number_of_touchPoints",
         "rawType": "float64",
         "type": "float"
        },
        {
         "name": "total_touching_volume",
         "rawType": "float64",
         "type": "float"
        },
        {
         "name": "total_touching_surface_area/2",
         "rawType": "float64",
         "type": "float"
        },
        {
         "name": "centroid_x",
         "rawType": "float64",
         "type": "float"
        },
        {
         "name": "centroid_y",
         "rawType": "float64",
         "type": "float"
        },
        {
         "name": "centroid_z",
         "rawType": "float64",
         "type": "float"
        },
        {
         "name": "id",
         "rawType": "int64",
         "type": "integer"
        },
        {
         "name": "clone_type",
         "rawType": "object",
         "type": "string"
        },
        {
         "name": "treatment",
         "rawType": "object",
         "type": "string"
        },
        {
         "name": "total_lung_volume",
         "rawType": "float64",
         "type": "float"
        },
        {
         "name": "vessel_volume",
         "rawType": "float64",
         "type": "float"
        },
        {
         "name": "vessel_surface_area",
         "rawType": "float64",
         "type": "float"
        },
        {
         "name": "minor_axis",
         "rawType": "float64",
         "type": "float"
        },
        {
         "name": "major_axis",
         "rawType": "float64",
         "type": "float"
        },
        {
         "name": "elongation",
         "rawType": "float64",
         "type": "float"
        },
        {
         "name": "met_type_cat",
         "rawType": "object",
         "type": "string"
        }
       ],
       "conversionMethod": "pd.DataFrame",
       "ref": "b7d06b48-7c3d-41d3-abcb-b7ecc34a4d3c",
       "rows": [
        [
         "0",
         "28.0",
         "0.011734583",
         "0.167992731",
         "0.0",
         "0.511049704",
         "0.0",
         "0.309222983",
         "0.0",
         "220225972.32",
         "0.0",
         "457.2391011",
         "156.8785642",
         "17.063404",
         "9756894.0",
         "1.0",
         "1.0",
         "0.0",
         "1.0",
         "0.0",
         "1.0",
         "0.0",
         "1427.0",
         "1664.0",
         "462.0",
         "799.0",
         "0.0",
         "202.0",
         "28.0",
         "430.0",
         "622010.194",
         "133559.001",
         "1545.5",
         "630.5",
         "80.52008855362413",
         "1064",
         "1_2_4_6",
         "IV",
         "27758497771.791",
         "852975560.819",
         "151017041.746",
         "161.04017710724827",
         "337.0",
         "2.092645487936637",
         "polyclonal"
        ],
        [
         "1",
         "50.0",
         "0.998808105",
         "0.001191895",
         "0.0",
         "0.0",
         "0.0",
         "0.0",
         "0.0",
         "65635.22505600001",
         "282.4320102",
         "334.2006344",
         "311.643467",
         "12.791227",
         "0.0",
         "1.0",
         "1.0",
         "0.0",
         "0.0",
         "0.0",
         "0.0",
         "0.0",
         "976.0",
         "989.0",
         "591.0",
         "605.0",
         "0.0",
         "23.0",
         "0.0",
         "0.0",
         "0.0",
         "0.0",
         "982.5",
         "598.0",
         "9.16812889471958",
         "1064",
         "1_2",
         "IV",
         "27758497771.791",
         "852975560.819",
         "151017041.746",
         "13.0",
         "18.33625778943916",
         "1.4104813684183968",
         "polyclonal"
        ],
        [
         "2",
         "89.0",
         "0.175398902",
         "0.099498449",
         "0.0",
         "0.545721492",
         "0.179381156",
         "0.0",
         "0.0",
         "124651697.04",
         "15.76182731",
         "630.1238624",
         "321.0816896",
         "15.334135",
         "8866896.49",
         "1.0",
         "1.0",
         "0.0",
         "1.0",
         "1.0",
         "0.0",
         "0.0",
         "615.0",
         "991.0",
         "654.0",
         "1013.0",
         "0.0",
         "210.0",
         "0.0",
         "0.0",
         "0.0",
         "0.0",
         "803.0",
         "833.5",
         "83.70900295178747",
         "1064",
         "1_2_4_5",
         "IV",
         "27758497771.791",
         "852975560.819",
         "151017041.746",
         "167.41800590357494",
         "376.0",
         "2.2458755136323787",
         "polyclonal"
        ],
        [
         "3",
         "119.0",
         "0.974494492",
         "0.001365836",
         "0.0",
         "0.024139672",
         "0.0",
         "0.0",
         "0.0",
         "1326003.6528",
         "0.0",
         "104.2700743",
         "46.92124515",
         "22.536263",
         "225496.758",
         "1.0",
         "1.0",
         "0.0",
         "1.0",
         "0.0",
         "0.0",
         "0.0",
         "1583.0",
         "1622.0",
         "703.0",
         "758.0",
         "0.0",
         "47.0",
         "119.0",
         "22.0",
         "61197.3362",
         "9705.758",
         "1602.5",
         "730.5",
         "18.734872089209578",
         "1064",
         "1_2_4",
         "IV",
         "27758497771.791",
         "852975560.819",
         "151017041.746",
         "37.46974417841916",
         "55.0",
         "1.4678509609808723",
         "polyclonal"
        ],
        [
         "4",
         "125.0",
         "0.975768585",
         "0.000219376",
         "0.0",
         "0.024012039",
         "0.0",
         "0.0",
         "0.0",
         "10163211.714",
         "0.0",
         "150.546361",
         "64.83950385",
         "17.669512",
         "2137142.2",
         "1.0",
         "1.0",
         "0.0",
         "1.0",
         "0.0",
         "0.0",
         "0.0",
         "1249.0",
         "1360.0",
         "718.0",
         "816.0",
         "0.0",
         "96.0",
         "125.0",
         "21.0",
         "22924.5924",
         "5663.0521",
         "1304.5",
         "767.0",
         "38.26697277795999",
         "1064",
         "1_2_4",
         "IV",
         "27758497771.791",
         "852975560.819",
         "151017041.746",
         "76.53394555591997",
         "111.0",
         "1.4503368301964414",
         "polyclonal"
        ]
       ],
       "shape": {
        "columns": 44,
        "rows": 5
       }
      },
      "text/html": [
       "<div>\n",
       "<style scoped>\n",
       "    .dataframe tbody tr th:only-of-type {\n",
       "        vertical-align: middle;\n",
       "    }\n",
       "\n",
       "    .dataframe tbody tr th {\n",
       "        vertical-align: top;\n",
       "    }\n",
       "\n",
       "    .dataframe thead th {\n",
       "        text-align: right;\n",
       "    }\n",
       "</style>\n",
       "<table border=\"1\" class=\"dataframe\">\n",
       "  <thead>\n",
       "    <tr style=\"text-align: right;\">\n",
       "      <th></th>\n",
       "      <th>MET_ID</th>\n",
       "      <th>1</th>\n",
       "      <th>10</th>\n",
       "      <th>11</th>\n",
       "      <th>100</th>\n",
       "      <th>101</th>\n",
       "      <th>110</th>\n",
       "      <th>111</th>\n",
       "      <th>Volume corrected</th>\n",
       "      <th>min_dist</th>\n",
       "      <th>...</th>\n",
       "      <th>id</th>\n",
       "      <th>clone_type</th>\n",
       "      <th>treatment</th>\n",
       "      <th>total_lung_volume</th>\n",
       "      <th>vessel_volume</th>\n",
       "      <th>vessel_surface_area</th>\n",
       "      <th>minor_axis</th>\n",
       "      <th>major_axis</th>\n",
       "      <th>elongation</th>\n",
       "      <th>met_type_cat</th>\n",
       "    </tr>\n",
       "  </thead>\n",
       "  <tbody>\n",
       "    <tr>\n",
       "      <th>0</th>\n",
       "      <td>28.0</td>\n",
       "      <td>0.011735</td>\n",
       "      <td>0.167993</td>\n",
       "      <td>0.0</td>\n",
       "      <td>0.511050</td>\n",
       "      <td>0.000000</td>\n",
       "      <td>0.309223</td>\n",
       "      <td>0.0</td>\n",
       "      <td>2.202260e+08</td>\n",
       "      <td>0.000000</td>\n",
       "      <td>...</td>\n",
       "      <td>1064</td>\n",
       "      <td>1_2_4_6</td>\n",
       "      <td>IV</td>\n",
       "      <td>2.775850e+10</td>\n",
       "      <td>8.529756e+08</td>\n",
       "      <td>1.510170e+08</td>\n",
       "      <td>161.040177</td>\n",
       "      <td>337.000000</td>\n",
       "      <td>2.092645</td>\n",
       "      <td>polyclonal</td>\n",
       "    </tr>\n",
       "    <tr>\n",
       "      <th>1</th>\n",
       "      <td>50.0</td>\n",
       "      <td>0.998808</td>\n",
       "      <td>0.001192</td>\n",
       "      <td>0.0</td>\n",
       "      <td>0.000000</td>\n",
       "      <td>0.000000</td>\n",
       "      <td>0.000000</td>\n",
       "      <td>0.0</td>\n",
       "      <td>6.563523e+04</td>\n",
       "      <td>282.432010</td>\n",
       "      <td>...</td>\n",
       "      <td>1064</td>\n",
       "      <td>1_2</td>\n",
       "      <td>IV</td>\n",
       "      <td>2.775850e+10</td>\n",
       "      <td>8.529756e+08</td>\n",
       "      <td>1.510170e+08</td>\n",
       "      <td>13.000000</td>\n",
       "      <td>18.336258</td>\n",
       "      <td>1.410481</td>\n",
       "      <td>polyclonal</td>\n",
       "    </tr>\n",
       "    <tr>\n",
       "      <th>2</th>\n",
       "      <td>89.0</td>\n",
       "      <td>0.175399</td>\n",
       "      <td>0.099498</td>\n",
       "      <td>0.0</td>\n",
       "      <td>0.545721</td>\n",
       "      <td>0.179381</td>\n",
       "      <td>0.000000</td>\n",
       "      <td>0.0</td>\n",
       "      <td>1.246517e+08</td>\n",
       "      <td>15.761827</td>\n",
       "      <td>...</td>\n",
       "      <td>1064</td>\n",
       "      <td>1_2_4_5</td>\n",
       "      <td>IV</td>\n",
       "      <td>2.775850e+10</td>\n",
       "      <td>8.529756e+08</td>\n",
       "      <td>1.510170e+08</td>\n",
       "      <td>167.418006</td>\n",
       "      <td>376.000000</td>\n",
       "      <td>2.245876</td>\n",
       "      <td>polyclonal</td>\n",
       "    </tr>\n",
       "    <tr>\n",
       "      <th>3</th>\n",
       "      <td>119.0</td>\n",
       "      <td>0.974494</td>\n",
       "      <td>0.001366</td>\n",
       "      <td>0.0</td>\n",
       "      <td>0.024140</td>\n",
       "      <td>0.000000</td>\n",
       "      <td>0.000000</td>\n",
       "      <td>0.0</td>\n",
       "      <td>1.326004e+06</td>\n",
       "      <td>0.000000</td>\n",
       "      <td>...</td>\n",
       "      <td>1064</td>\n",
       "      <td>1_2_4</td>\n",
       "      <td>IV</td>\n",
       "      <td>2.775850e+10</td>\n",
       "      <td>8.529756e+08</td>\n",
       "      <td>1.510170e+08</td>\n",
       "      <td>37.469744</td>\n",
       "      <td>55.000000</td>\n",
       "      <td>1.467851</td>\n",
       "      <td>polyclonal</td>\n",
       "    </tr>\n",
       "    <tr>\n",
       "      <th>4</th>\n",
       "      <td>125.0</td>\n",
       "      <td>0.975769</td>\n",
       "      <td>0.000219</td>\n",
       "      <td>0.0</td>\n",
       "      <td>0.024012</td>\n",
       "      <td>0.000000</td>\n",
       "      <td>0.000000</td>\n",
       "      <td>0.0</td>\n",
       "      <td>1.016321e+07</td>\n",
       "      <td>0.000000</td>\n",
       "      <td>...</td>\n",
       "      <td>1064</td>\n",
       "      <td>1_2_4</td>\n",
       "      <td>IV</td>\n",
       "      <td>2.775850e+10</td>\n",
       "      <td>8.529756e+08</td>\n",
       "      <td>1.510170e+08</td>\n",
       "      <td>76.533946</td>\n",
       "      <td>111.000000</td>\n",
       "      <td>1.450337</td>\n",
       "      <td>polyclonal</td>\n",
       "    </tr>\n",
       "  </tbody>\n",
       "</table>\n",
       "<p>5 rows × 44 columns</p>\n",
       "</div>"
      ],
      "text/plain": [
       "   MET_ID         1        10   11       100       101       110  111  \\\n",
       "0    28.0  0.011735  0.167993  0.0  0.511050  0.000000  0.309223  0.0   \n",
       "1    50.0  0.998808  0.001192  0.0  0.000000  0.000000  0.000000  0.0   \n",
       "2    89.0  0.175399  0.099498  0.0  0.545721  0.179381  0.000000  0.0   \n",
       "3   119.0  0.974494  0.001366  0.0  0.024140  0.000000  0.000000  0.0   \n",
       "4   125.0  0.975769  0.000219  0.0  0.024012  0.000000  0.000000  0.0   \n",
       "\n",
       "   Volume corrected    min_dist  ...    id  clone_type  treatment  \\\n",
       "0      2.202260e+08    0.000000  ...  1064     1_2_4_6         IV   \n",
       "1      6.563523e+04  282.432010  ...  1064         1_2         IV   \n",
       "2      1.246517e+08   15.761827  ...  1064     1_2_4_5         IV   \n",
       "3      1.326004e+06    0.000000  ...  1064       1_2_4         IV   \n",
       "4      1.016321e+07    0.000000  ...  1064       1_2_4         IV   \n",
       "\n",
       "   total_lung_volume  vessel_volume  vessel_surface_area  minor_axis  \\\n",
       "0       2.775850e+10   8.529756e+08         1.510170e+08  161.040177   \n",
       "1       2.775850e+10   8.529756e+08         1.510170e+08   13.000000   \n",
       "2       2.775850e+10   8.529756e+08         1.510170e+08  167.418006   \n",
       "3       2.775850e+10   8.529756e+08         1.510170e+08   37.469744   \n",
       "4       2.775850e+10   8.529756e+08         1.510170e+08   76.533946   \n",
       "\n",
       "   major_axis  elongation  met_type_cat  \n",
       "0  337.000000    2.092645    polyclonal  \n",
       "1   18.336258    1.410481    polyclonal  \n",
       "2  376.000000    2.245876    polyclonal  \n",
       "3   55.000000    1.467851    polyclonal  \n",
       "4  111.000000    1.450337    polyclonal  \n",
       "\n",
       "[5 rows x 44 columns]"
      ]
     },
     "execution_count": 1,
     "metadata": {},
     "output_type": "execute_result"
    }
   ],
   "source": [
    "#Read in file\n",
    "import pandas as pd \n",
    "import matplotlib.pyplot as plt\n",
    "import seaborn as sns\n",
    "import numpy as np \n",
    "#ignore warnings for seaborn ()\n",
    "import warnings\n",
    "#warnings.filterwarnings(\"ignore\")\n",
    "\n",
    "merged_df = pd.read_csv(\"./MFP_IV_combined_raw_data.csv\")\n",
    "merged_df.head()"
   ]
  },
  {
   "cell_type": "markdown",
   "metadata": {},
   "source": [
    "The larger METs by function of their size are more likely to be closer to the blood vessels, hence by default they may have lower min_dist values. To account for this, we can get relative distances by dividing the min_dist by the radius of each tumour. \n",
    "\n",
    "* If value is 1, it means the distance is equal to the radius of the MET.\n",
    "* If its <1, distance is smaller than MET radius, indicating it is closer to blood vessel relative to its own size\n",
    "* If its >1, the MET is further away from blood vessel relative to its own size. \n",
    "\n",
    "\n",
    "The relative distance provides a measurement independent of MET size and is the relative closeness of a cell to the blood vessel compared to its own dimensions. \n",
    "\n",
    "As METS are not exactly spherical, we get volume of each Met, calculate the radius of a sphere of equivalent volume and add this as an extra column. \n",
    "\n",
    "Based on paper: https://www.nature.com/articles/s41598-021-00239-0"
   ]
  },
  {
   "cell_type": "code",
   "execution_count": 2,
   "metadata": {},
   "outputs": [
    {
     "data": {
      "application/vnd.microsoft.datawrangler.viewer.v0+json": {
       "columns": [
        {
         "name": "index",
         "rawType": "int64",
         "type": "integer"
        },
        {
         "name": "MET_ID",
         "rawType": "float64",
         "type": "float"
        },
        {
         "name": "1",
         "rawType": "float64",
         "type": "float"
        },
        {
         "name": "10",
         "rawType": "float64",
         "type": "float"
        },
        {
         "name": "11",
         "rawType": "float64",
         "type": "float"
        },
        {
         "name": "100",
         "rawType": "float64",
         "type": "float"
        },
        {
         "name": "101",
         "rawType": "float64",
         "type": "float"
        },
        {
         "name": "110",
         "rawType": "float64",
         "type": "float"
        },
        {
         "name": "111",
         "rawType": "float64",
         "type": "float"
        },
        {
         "name": "Volume corrected",
         "rawType": "float64",
         "type": "float"
        },
        {
         "name": "min_dist",
         "rawType": "float64",
         "type": "float"
        },
        {
         "name": "max_dist",
         "rawType": "float64",
         "type": "float"
        },
        {
         "name": "mean_dist",
         "rawType": "float64",
         "type": "float"
        },
        {
         "name": "Nearest Vessel Thickness",
         "rawType": "float64",
         "type": "float"
        },
        {
         "name": "Vessel Volume",
         "rawType": "float64",
         "type": "float"
        },
        {
         "name": "Clone1",
         "rawType": "float64",
         "type": "float"
        },
        {
         "name": "Clone2",
         "rawType": "float64",
         "type": "float"
        },
        {
         "name": "Clone3",
         "rawType": "float64",
         "type": "float"
        },
        {
         "name": "Clone4",
         "rawType": "float64",
         "type": "float"
        },
        {
         "name": "Clone5",
         "rawType": "float64",
         "type": "float"
        },
        {
         "name": "Clone6",
         "rawType": "float64",
         "type": "float"
        },
        {
         "name": "Clone7",
         "rawType": "float64",
         "type": "float"
        },
        {
         "name": "Box.X.Min",
         "rawType": "float64",
         "type": "float"
        },
        {
         "name": "Box.X.Max",
         "rawType": "float64",
         "type": "float"
        },
        {
         "name": "Box.Y.Min",
         "rawType": "float64",
         "type": "float"
        },
        {
         "name": "Box.Y.Max",
         "rawType": "float64",
         "type": "float"
        },
        {
         "name": "Box.Z.Min",
         "rawType": "float64",
         "type": "float"
        },
        {
         "name": "Box.Z.Max",
         "rawType": "float64",
         "type": "float"
        },
        {
         "name": "MetNum_that_touches",
         "rawType": "float64",
         "type": "float"
        },
        {
         "name": "number_of_touchPoints",
         "rawType": "float64",
         "type": "float"
        },
        {
         "name": "total_touching_volume",
         "rawType": "float64",
         "type": "float"
        },
        {
         "name": "total_touching_surface_area/2",
         "rawType": "float64",
         "type": "float"
        },
        {
         "name": "centroid_x",
         "rawType": "float64",
         "type": "float"
        },
        {
         "name": "centroid_y",
         "rawType": "float64",
         "type": "float"
        },
        {
         "name": "centroid_z",
         "rawType": "float64",
         "type": "float"
        },
        {
         "name": "id",
         "rawType": "int64",
         "type": "integer"
        },
        {
         "name": "clone_type",
         "rawType": "object",
         "type": "string"
        },
        {
         "name": "treatment",
         "rawType": "object",
         "type": "string"
        },
        {
         "name": "total_lung_volume",
         "rawType": "float64",
         "type": "float"
        },
        {
         "name": "vessel_volume",
         "rawType": "float64",
         "type": "float"
        },
        {
         "name": "vessel_surface_area",
         "rawType": "float64",
         "type": "float"
        },
        {
         "name": "minor_axis",
         "rawType": "float64",
         "type": "float"
        },
        {
         "name": "major_axis",
         "rawType": "float64",
         "type": "float"
        },
        {
         "name": "elongation",
         "rawType": "float64",
         "type": "float"
        },
        {
         "name": "met_type_cat",
         "rawType": "object",
         "type": "string"
        },
        {
         "name": "radius_met",
         "rawType": "float64",
         "type": "float"
        },
        {
         "name": "min_dist_norm",
         "rawType": "float64",
         "type": "float"
        }
       ],
       "conversionMethod": "pd.DataFrame",
       "ref": "9bff74f5-c6a8-4dc8-a2e7-eb4361127c55",
       "rows": [
        [
         "0",
         "28.0",
         "0.011734583",
         "0.167992731",
         "0.0",
         "0.511049704",
         "0.0",
         "0.309222983",
         "0.0",
         "220225972.32",
         "0.0",
         "457.2391011",
         "156.8785642",
         "17.063404",
         "9756894.0",
         "1.0",
         "1.0",
         "0.0",
         "1.0",
         "0.0",
         "1.0",
         "0.0",
         "1427.0",
         "1664.0",
         "462.0",
         "799.0",
         "0.0",
         "202.0",
         "28.0",
         "430.0",
         "622010.194",
         "133559.001",
         "1545.5",
         "630.5",
         "80.52008855362413",
         "1064",
         "1_2_4_6",
         "IV",
         "27758497771.791",
         "852975560.819",
         "151017041.746",
         "161.04017710724827",
         "337.0",
         "2.092645487936637",
         "polyclonal",
         "374.62202659564537",
         "0.0"
        ],
        [
         "1",
         "50.0",
         "0.998808105",
         "0.001191895",
         "0.0",
         "0.0",
         "0.0",
         "0.0",
         "0.0",
         "65635.22505600001",
         "282.4320102",
         "334.2006344",
         "311.643467",
         "12.791227",
         "0.0",
         "1.0",
         "1.0",
         "0.0",
         "0.0",
         "0.0",
         "0.0",
         "0.0",
         "976.0",
         "989.0",
         "591.0",
         "605.0",
         "0.0",
         "23.0",
         "0.0",
         "0.0",
         "0.0",
         "0.0",
         "982.5",
         "598.0",
         "9.16812889471958",
         "1064",
         "1_2",
         "IV",
         "27758497771.791",
         "852975560.819",
         "151017041.746",
         "13.0",
         "18.33625778943916",
         "1.4104813684183968",
         "polyclonal",
         "25.023580824351523",
         "11.286634482190225"
        ],
        [
         "2",
         "89.0",
         "0.175398902",
         "0.099498449",
         "0.0",
         "0.545721492",
         "0.179381156",
         "0.0",
         "0.0",
         "124651697.04",
         "15.76182731",
         "630.1238624",
         "321.0816896",
         "15.334135",
         "8866896.49",
         "1.0",
         "1.0",
         "0.0",
         "1.0",
         "1.0",
         "0.0",
         "0.0",
         "615.0",
         "991.0",
         "654.0",
         "1013.0",
         "0.0",
         "210.0",
         "0.0",
         "0.0",
         "0.0",
         "0.0",
         "803.0",
         "833.5",
         "83.70900295178747",
         "1064",
         "1_2_4_5",
         "IV",
         "27758497771.791",
         "852975560.819",
         "151017041.746",
         "167.41800590357494",
         "376.0",
         "2.2458755136323787",
         "polyclonal",
         "309.8868842351629",
         "0.05086316366341878"
        ],
        [
         "3",
         "119.0",
         "0.974494492",
         "0.001365836",
         "0.0",
         "0.024139672",
         "0.0",
         "0.0",
         "0.0",
         "1326003.6528",
         "0.0",
         "104.2700743",
         "46.92124515",
         "22.536263",
         "225496.758",
         "1.0",
         "1.0",
         "0.0",
         "1.0",
         "0.0",
         "0.0",
         "0.0",
         "1583.0",
         "1622.0",
         "703.0",
         "758.0",
         "0.0",
         "47.0",
         "119.0",
         "22.0",
         "61197.3362",
         "9705.758",
         "1602.5",
         "730.5",
         "18.734872089209578",
         "1064",
         "1_2_4",
         "IV",
         "27758497771.791",
         "852975560.819",
         "151017041.746",
         "37.46974417841916",
         "55.0",
         "1.4678509609808723",
         "polyclonal",
         "68.15306163361053",
         "0.0"
        ],
        [
         "4",
         "125.0",
         "0.975768585",
         "0.000219376",
         "0.0",
         "0.024012039",
         "0.0",
         "0.0",
         "0.0",
         "10163211.714",
         "0.0",
         "150.546361",
         "64.83950385",
         "17.669512",
         "2137142.2",
         "1.0",
         "1.0",
         "0.0",
         "1.0",
         "0.0",
         "0.0",
         "0.0",
         "1249.0",
         "1360.0",
         "718.0",
         "816.0",
         "0.0",
         "96.0",
         "125.0",
         "21.0",
         "22924.5924",
         "5663.0521",
         "1304.5",
         "767.0",
         "38.26697277795999",
         "1064",
         "1_2_4",
         "IV",
         "27758497771.791",
         "852975560.819",
         "151017041.746",
         "76.53394555591997",
         "111.0",
         "1.4503368301964414",
         "polyclonal",
         "134.3736521716231",
         "0.0"
        ]
       ],
       "shape": {
        "columns": 46,
        "rows": 5
       }
      },
      "text/html": [
       "<div>\n",
       "<style scoped>\n",
       "    .dataframe tbody tr th:only-of-type {\n",
       "        vertical-align: middle;\n",
       "    }\n",
       "\n",
       "    .dataframe tbody tr th {\n",
       "        vertical-align: top;\n",
       "    }\n",
       "\n",
       "    .dataframe thead th {\n",
       "        text-align: right;\n",
       "    }\n",
       "</style>\n",
       "<table border=\"1\" class=\"dataframe\">\n",
       "  <thead>\n",
       "    <tr style=\"text-align: right;\">\n",
       "      <th></th>\n",
       "      <th>MET_ID</th>\n",
       "      <th>1</th>\n",
       "      <th>10</th>\n",
       "      <th>11</th>\n",
       "      <th>100</th>\n",
       "      <th>101</th>\n",
       "      <th>110</th>\n",
       "      <th>111</th>\n",
       "      <th>Volume corrected</th>\n",
       "      <th>min_dist</th>\n",
       "      <th>...</th>\n",
       "      <th>treatment</th>\n",
       "      <th>total_lung_volume</th>\n",
       "      <th>vessel_volume</th>\n",
       "      <th>vessel_surface_area</th>\n",
       "      <th>minor_axis</th>\n",
       "      <th>major_axis</th>\n",
       "      <th>elongation</th>\n",
       "      <th>met_type_cat</th>\n",
       "      <th>radius_met</th>\n",
       "      <th>min_dist_norm</th>\n",
       "    </tr>\n",
       "  </thead>\n",
       "  <tbody>\n",
       "    <tr>\n",
       "      <th>0</th>\n",
       "      <td>28.0</td>\n",
       "      <td>0.011735</td>\n",
       "      <td>0.167993</td>\n",
       "      <td>0.0</td>\n",
       "      <td>0.511050</td>\n",
       "      <td>0.000000</td>\n",
       "      <td>0.309223</td>\n",
       "      <td>0.0</td>\n",
       "      <td>2.202260e+08</td>\n",
       "      <td>0.000000</td>\n",
       "      <td>...</td>\n",
       "      <td>IV</td>\n",
       "      <td>2.775850e+10</td>\n",
       "      <td>8.529756e+08</td>\n",
       "      <td>1.510170e+08</td>\n",
       "      <td>161.040177</td>\n",
       "      <td>337.000000</td>\n",
       "      <td>2.092645</td>\n",
       "      <td>polyclonal</td>\n",
       "      <td>374.622027</td>\n",
       "      <td>0.000000</td>\n",
       "    </tr>\n",
       "    <tr>\n",
       "      <th>1</th>\n",
       "      <td>50.0</td>\n",
       "      <td>0.998808</td>\n",
       "      <td>0.001192</td>\n",
       "      <td>0.0</td>\n",
       "      <td>0.000000</td>\n",
       "      <td>0.000000</td>\n",
       "      <td>0.000000</td>\n",
       "      <td>0.0</td>\n",
       "      <td>6.563523e+04</td>\n",
       "      <td>282.432010</td>\n",
       "      <td>...</td>\n",
       "      <td>IV</td>\n",
       "      <td>2.775850e+10</td>\n",
       "      <td>8.529756e+08</td>\n",
       "      <td>1.510170e+08</td>\n",
       "      <td>13.000000</td>\n",
       "      <td>18.336258</td>\n",
       "      <td>1.410481</td>\n",
       "      <td>polyclonal</td>\n",
       "      <td>25.023581</td>\n",
       "      <td>11.286634</td>\n",
       "    </tr>\n",
       "    <tr>\n",
       "      <th>2</th>\n",
       "      <td>89.0</td>\n",
       "      <td>0.175399</td>\n",
       "      <td>0.099498</td>\n",
       "      <td>0.0</td>\n",
       "      <td>0.545721</td>\n",
       "      <td>0.179381</td>\n",
       "      <td>0.000000</td>\n",
       "      <td>0.0</td>\n",
       "      <td>1.246517e+08</td>\n",
       "      <td>15.761827</td>\n",
       "      <td>...</td>\n",
       "      <td>IV</td>\n",
       "      <td>2.775850e+10</td>\n",
       "      <td>8.529756e+08</td>\n",
       "      <td>1.510170e+08</td>\n",
       "      <td>167.418006</td>\n",
       "      <td>376.000000</td>\n",
       "      <td>2.245876</td>\n",
       "      <td>polyclonal</td>\n",
       "      <td>309.886884</td>\n",
       "      <td>0.050863</td>\n",
       "    </tr>\n",
       "    <tr>\n",
       "      <th>3</th>\n",
       "      <td>119.0</td>\n",
       "      <td>0.974494</td>\n",
       "      <td>0.001366</td>\n",
       "      <td>0.0</td>\n",
       "      <td>0.024140</td>\n",
       "      <td>0.000000</td>\n",
       "      <td>0.000000</td>\n",
       "      <td>0.0</td>\n",
       "      <td>1.326004e+06</td>\n",
       "      <td>0.000000</td>\n",
       "      <td>...</td>\n",
       "      <td>IV</td>\n",
       "      <td>2.775850e+10</td>\n",
       "      <td>8.529756e+08</td>\n",
       "      <td>1.510170e+08</td>\n",
       "      <td>37.469744</td>\n",
       "      <td>55.000000</td>\n",
       "      <td>1.467851</td>\n",
       "      <td>polyclonal</td>\n",
       "      <td>68.153062</td>\n",
       "      <td>0.000000</td>\n",
       "    </tr>\n",
       "    <tr>\n",
       "      <th>4</th>\n",
       "      <td>125.0</td>\n",
       "      <td>0.975769</td>\n",
       "      <td>0.000219</td>\n",
       "      <td>0.0</td>\n",
       "      <td>0.024012</td>\n",
       "      <td>0.000000</td>\n",
       "      <td>0.000000</td>\n",
       "      <td>0.0</td>\n",
       "      <td>1.016321e+07</td>\n",
       "      <td>0.000000</td>\n",
       "      <td>...</td>\n",
       "      <td>IV</td>\n",
       "      <td>2.775850e+10</td>\n",
       "      <td>8.529756e+08</td>\n",
       "      <td>1.510170e+08</td>\n",
       "      <td>76.533946</td>\n",
       "      <td>111.000000</td>\n",
       "      <td>1.450337</td>\n",
       "      <td>polyclonal</td>\n",
       "      <td>134.373652</td>\n",
       "      <td>0.000000</td>\n",
       "    </tr>\n",
       "  </tbody>\n",
       "</table>\n",
       "<p>5 rows × 46 columns</p>\n",
       "</div>"
      ],
      "text/plain": [
       "   MET_ID         1        10   11       100       101       110  111  \\\n",
       "0    28.0  0.011735  0.167993  0.0  0.511050  0.000000  0.309223  0.0   \n",
       "1    50.0  0.998808  0.001192  0.0  0.000000  0.000000  0.000000  0.0   \n",
       "2    89.0  0.175399  0.099498  0.0  0.545721  0.179381  0.000000  0.0   \n",
       "3   119.0  0.974494  0.001366  0.0  0.024140  0.000000  0.000000  0.0   \n",
       "4   125.0  0.975769  0.000219  0.0  0.024012  0.000000  0.000000  0.0   \n",
       "\n",
       "   Volume corrected    min_dist  ...  treatment  total_lung_volume  \\\n",
       "0      2.202260e+08    0.000000  ...         IV       2.775850e+10   \n",
       "1      6.563523e+04  282.432010  ...         IV       2.775850e+10   \n",
       "2      1.246517e+08   15.761827  ...         IV       2.775850e+10   \n",
       "3      1.326004e+06    0.000000  ...         IV       2.775850e+10   \n",
       "4      1.016321e+07    0.000000  ...         IV       2.775850e+10   \n",
       "\n",
       "   vessel_volume  vessel_surface_area  minor_axis  major_axis  elongation  \\\n",
       "0   8.529756e+08         1.510170e+08  161.040177  337.000000    2.092645   \n",
       "1   8.529756e+08         1.510170e+08   13.000000   18.336258    1.410481   \n",
       "2   8.529756e+08         1.510170e+08  167.418006  376.000000    2.245876   \n",
       "3   8.529756e+08         1.510170e+08   37.469744   55.000000    1.467851   \n",
       "4   8.529756e+08         1.510170e+08   76.533946  111.000000    1.450337   \n",
       "\n",
       "   met_type_cat  radius_met  min_dist_norm  \n",
       "0    polyclonal  374.622027       0.000000  \n",
       "1    polyclonal   25.023581      11.286634  \n",
       "2    polyclonal  309.886884       0.050863  \n",
       "3    polyclonal   68.153062       0.000000  \n",
       "4    polyclonal  134.373652       0.000000  \n",
       "\n",
       "[5 rows x 46 columns]"
      ]
     },
     "execution_count": 2,
     "metadata": {},
     "output_type": "execute_result"
    }
   ],
   "source": [
    "#define a function to get get radius given volume \n",
    "def get_radius(volume):\n",
    "    return (3*volume/(4*np.pi))**(1/3)\n",
    "\n",
    "#add a column for radius\n",
    "merged_df['radius_met'] = merged_df['Volume corrected'].apply(get_radius)\n",
    "#normalized min distance to radius_met\n",
    "merged_df['min_dist_norm'] = merged_df['min_dist'] / merged_df['radius_met']\n",
    "merged_df.head()\n"
   ]
  },
  {
   "cell_type": "code",
   "execution_count": 3,
   "metadata": {},
   "outputs": [
    {
     "data": {
      "text/plain": [
       "Index(['MET_ID', '1', '10', '11', '100', '101', '110', '111',\n",
       "       'Volume corrected', 'min_dist', 'max_dist', 'mean_dist',\n",
       "       'Nearest Vessel Thickness', 'Vessel Volume', 'Clone1', 'Clone2',\n",
       "       'Clone3', 'Clone4', 'Clone5', 'Clone6', 'Clone7', 'Box.X.Min',\n",
       "       'Box.X.Max', 'Box.Y.Min', 'Box.Y.Max', 'Box.Z.Min', 'Box.Z.Max',\n",
       "       'MetNum_that_touches', 'number_of_touchPoints', 'total_touching_volume',\n",
       "       'total_touching_surface_area/2', 'centroid_x', 'centroid_y',\n",
       "       'centroid_z', 'id', 'clone_type', 'treatment', 'total_lung_volume',\n",
       "       'vessel_volume', 'vessel_surface_area', 'minor_axis', 'major_axis',\n",
       "       'elongation', 'met_type_cat', 'radius_met', 'min_dist_norm'],\n",
       "      dtype='object')"
      ]
     },
     "execution_count": 3,
     "metadata": {},
     "output_type": "execute_result"
    }
   ],
   "source": [
    "merged_df.columns"
   ]
  },
  {
   "cell_type": "markdown",
   "metadata": {},
   "source": [
    "### Comparison of using\n",
    "- 'normalized distances' vs raw min distance\n",
    "- use of median vs mean values"
   ]
  },
  {
   "cell_type": "markdown",
   "metadata": {},
   "source": [
    "##### Median"
   ]
  },
  {
   "cell_type": "code",
   "execution_count": 4,
   "metadata": {},
   "outputs": [
    {
     "name": "stderr",
     "output_type": "stream",
     "text": [
      "The PostScript backend does not support transparency; partially transparent artists will be rendered opaque.\n"
     ]
    },
    {
     "data": {
      "image/png": "[encoded data removed]",
      "text/plain": [
       "<Figure size 1000x800 with 1 Axes>"
      ]
     },
     "metadata": {},
     "output_type": "display_data"
    }
   ],
   "source": [
    "plt.figure(figsize=(10,8))\n",
    "#ax = sns.violinplot(x='id',y='min_dist_norm',data=merged_df,hue='met_type_cat',hue_order=['monoclonal','polyclonal'],inner='point')\n",
    "ax = sns.boxplot(x='id',y='min_dist_norm',data=merged_df,hue='met_type_cat',hue_order=['monoclonal','polyclonal'],showfliers=False)\n",
    "plt.savefig(\"./final_graphs/supplementary/supp6b_normalised_distance_individual_mice_boxplot.eps\", format=\"eps\",dpi=300)"
   ]
  },
  {
   "cell_type": "code",
   "execution_count": 6,
   "metadata": {},
   "outputs": [
    {
     "data": {
      "text/plain": [
       "Index(['MET_ID', '1', '10', '11', '100', '101', '110', '111',\n",
       "       'Volume corrected', 'min_dist', 'max_dist', 'mean_dist',\n",
       "       'Nearest Vessel Thickness', 'Vessel Volume', 'Clone1', 'Clone2',\n",
       "       'Clone3', 'Clone4', 'Clone5', 'Clone6', 'Clone7', 'Box.X.Min',\n",
       "       'Box.X.Max', 'Box.Y.Min', 'Box.Y.Max', 'Box.Z.Min', 'Box.Z.Max',\n",
       "       'MetNum_that_touches', 'number_of_touchPoints', 'total_touching_volume',\n",
       "       'total_touching_surface_area/2', 'centroid_x', 'centroid_y',\n",
       "       'centroid_z', 'id', 'clone_type', 'treatment', 'total_lung_volume',\n",
       "       'vessel_volume', 'vessel_surface_area', 'minor_axis', 'major_axis',\n",
       "       'elongation', 'met_type_cat', 'radius_met', 'min_dist_norm'],\n",
       "      dtype='object')"
      ]
     },
     "execution_count": 6,
     "metadata": {},
     "output_type": "execute_result"
    }
   ],
   "source": [
    "merged_df.columns"
   ]
  },
  {
   "cell_type": "markdown",
   "metadata": {},
   "source": [
    "nearest vessel diameter distribution"
   ]
  },
  {
   "cell_type": "code",
   "execution_count": 8,
   "metadata": {},
   "outputs": [
    {
     "name": "stderr",
     "output_type": "stream",
     "text": [
      "The PostScript backend does not support transparency; partially transparent artists will be rendered opaque.\n"
     ]
    },
    {
     "data": {
      "image/png": "[encoded data removed]",
      "text/plain": [
       "<Figure size 1000x800 with 1 Axes>"
      ]
     },
     "metadata": {},
     "output_type": "display_data"
    }
   ],
   "source": [
    "plt.figure(figsize=(10,8))\n",
    "#ax = sns.violinplot(x='id',y='min_dist_norm',data=merged_df,hue='met_type_cat',hue_order=['monoclonal','polyclonal'],inner='point')\n",
    "ax = sns.boxplot(x='id',y='Nearest Vessel Thickness',data=merged_df,hue='met_type_cat',hue_order=['monoclonal','polyclonal'],showfliers=False)\n",
    "plt.savefig(\"./final_graphs/supplementary/suppc_nearest_vessel_diam_individual_mice_boxplot.eps\", format=\"eps\",dpi=300)"
   ]
  },
  {
   "cell_type": "markdown",
   "metadata": {},
   "source": [
    "Calculate median distances for normalized and actual(raw) distances to blood vessels for each met"
   ]
  },
  {
   "cell_type": "code",
   "execution_count": 9,
   "metadata": {},
   "outputs": [
    {
     "name": "stderr",
     "output_type": "stream",
     "text": [
      "C:\\Users\\rajasekhar.p\\AppData\\Local\\Temp\\ipykernel_25012\\2773872147.py:2: FutureWarning: The provided callable <function median at 0x000001CB35235CF0> is currently using SeriesGroupBy.median. In a future version of pandas, the provided callable will be used directly. To keep current behavior pass the string \"median\" instead.\n",
      "  dist_vol_norm = merged_df.groupby(['treatment','id','met_type_cat']).agg({'min_dist_norm':np.median}).reset_index()\n",
      "C:\\Users\\rajasekhar.p\\AppData\\Local\\Temp\\ipykernel_25012\\2773872147.py:5: FutureWarning: The provided callable <function median at 0x000001CB35235CF0> is currently using SeriesGroupBy.median. In a future version of pandas, the provided callable will be used directly. To keep current behavior pass the string \"median\" instead.\n",
      "  dist_raw = merged_df.groupby(['treatment','id','met_type_cat']).agg({'min_dist':np.median}).reset_index()\n"
     ]
    }
   ],
   "source": [
    "#normalized\n",
    "dist_vol_norm = merged_df.groupby(['treatment','id','met_type_cat']).agg({'min_dist_norm':np.median}).reset_index()\n",
    "\n",
    "#Raw min_dist\n",
    "dist_raw = merged_df.groupby(['treatment','id','met_type_cat']).agg({'min_dist':np.median}).reset_index()\n"
   ]
  },
  {
   "cell_type": "code",
   "execution_count": 13,
   "metadata": {},
   "outputs": [
    {
     "name": "stderr",
     "output_type": "stream",
     "text": [
      "C:\\Users\\rajasekhar.p\\AppData\\Local\\Temp\\ipykernel_25012\\2024673589.py:4: FutureWarning: \n",
      "\n",
      "Setting a gradient palette using color= is deprecated and will be removed in v0.14.0. Set `palette='dark:black'` for the same effect.\n",
      "\n",
      "  sns.swarmplot(dist_raw, x='treatment',hue='met_type_cat', y='min_dist',color='black',dodge=True,legend=False)\n",
      "The PostScript backend does not support transparency; partially transparent artists will be rendered opaque.\n"
     ]
    },
    {
     "data": {
      "image/png": "[encoded data removed]",
      "text/plain": [
       "<Figure size 640x480 with 1 Axes>"
      ]
     },
     "metadata": {},
     "output_type": "display_data"
    }
   ],
   "source": [
    "#sns.violinplot(dist_raw, x='treatment',hue='met_type_cat', y='min_dist',inner='point')\n",
    "\n",
    "sns.boxplot(dist_raw, x='treatment',hue='met_type_cat', y='min_dist',showfliers=False)#,inner='point')\n",
    "sns.swarmplot(dist_raw, x='treatment',hue='met_type_cat', y='min_dist',color='black',dodge=True,legend=False)\n",
    "plt.ylabel(\"Raw median distance to blood vessel\")\n",
    "plt.title(\"Raw median distance to blood vessel\")\n",
    "plt.legend(title='Metastasis type',loc='upper left',bbox_to_anchor=(1,1))\n",
    "plt.savefig(\"./final_graphs/supplementary/supp6a_raw_median_distance_vessel_boxplot.eps\", format=\"eps\",dpi=300)"
   ]
  },
  {
   "cell_type": "code",
   "execution_count": 15,
   "metadata": {},
   "outputs": [
    {
     "name": "stderr",
     "output_type": "stream",
     "text": [
      "C:\\Users\\rajasekhar.p\\AppData\\Local\\Temp\\ipykernel_25012\\902806670.py:2: FutureWarning: \n",
      "\n",
      "Setting a gradient palette using color= is deprecated and will be removed in v0.14.0. Set `palette='dark:black'` for the same effect.\n",
      "\n",
      "  sns.swarmplot(dist_vol_norm, x='treatment',hue='met_type_cat', y='min_dist_norm',color=\"black\",dodge=True,legend=False)\n",
      "The PostScript backend does not support transparency; partially transparent artists will be rendered opaque.\n"
     ]
    },
    {
     "data": {
      "image/png": "[encoded data removed]",
      "text/plain": [
       "<Figure size 640x480 with 1 Axes>"
      ]
     },
     "metadata": {},
     "output_type": "display_data"
    }
   ],
   "source": [
    "ax = sns.boxplot(dist_vol_norm, x='treatment',hue='met_type_cat', y='min_dist_norm',showfliers=False)#,inner='point')\n",
    "sns.swarmplot(dist_vol_norm, x='treatment',hue='met_type_cat', y='min_dist_norm',color=\"black\",dodge=True,legend=False)\n",
    "plt.ylabel(\"Median Normalized distance to blood vessel\")\n",
    "plt.title(\"Median Normalized distance to blood vessel\")\n",
    "#plt.ylim(-2,9)\n",
    "plt.legend(title='Metastasis type',loc='upper left',bbox_to_anchor=(1,1))\n",
    "\n",
    "plt.savefig(\"./final_graphs/fig5/fig5d_relative_median_distance.eps\", format=\"eps\",dpi=300)"
   ]
  },
  {
   "cell_type": "code",
   "execution_count": 16,
   "metadata": {},
   "outputs": [],
   "source": [
    "dist_vol_norm.to_csv(\"./final_graphs/fig5/fig5_relative_median_distance_data_fold_change.csv\")"
   ]
  },
  {
   "cell_type": "markdown",
   "metadata": {},
   "source": [
    "STATS ON NORMALIZED DATA GROUP"
   ]
  },
  {
   "cell_type": "code",
   "execution_count": 17,
   "metadata": {},
   "outputs": [
    {
     "name": "stdout",
     "output_type": "stream",
     "text": [
      "NORMALIZED MIN DISTANCE (MEDIAN)\n",
      "Monoclonal vs Polyclonal mets in the IV treatment group, the p-value is: 0.010600884\n",
      "Monoclonal vs Polyclonal mets in the MFP treatment group, the p-value is: 0.046859028\n",
      "Monoclonal mets in the IV vs MFP treatment group, the p-value is: 0.589232143\n",
      "Polyclonal mets in the IV vs MFP treatment group, the p-value is: 0.917684810\n"
     ]
    }
   ],
   "source": [
    "#stats\n",
    "from scipy.stats import ttest_ind, ttest_rel\n",
    "\n",
    "print(\"NORMALIZED MIN DISTANCE (MEDIAN)\")\n",
    "\n",
    "\n",
    "#t-test for monoclonal vs polyclonal for each treatment\n",
    "iv_monoclonal_min_dist = dist_vol_norm[(dist_vol_norm['treatment']=='IV') & (dist_vol_norm['met_type_cat']=='monoclonal')]['min_dist_norm']\n",
    "iv_polyclonal_min_dist = dist_vol_norm[(dist_vol_norm['treatment']=='IV') & (dist_vol_norm['met_type_cat']=='polyclonal')]['min_dist_norm']\n",
    "\n",
    "mfp_monoclonal_min_dist = dist_vol_norm[(dist_vol_norm['treatment']=='MFP') & (dist_vol_norm['met_type_cat']=='monoclonal')]['min_dist_norm']\n",
    "mfp_polyclonal_min_dist = dist_vol_norm[(dist_vol_norm['treatment']=='MFP') & (dist_vol_norm['met_type_cat']=='polyclonal')]['min_dist_norm']\n",
    "\n",
    "#t-test \n",
    "iv_mono_poly_ttest = ttest_rel(iv_monoclonal_min_dist, iv_polyclonal_min_dist)\n",
    "mfp_mono_poly_ttest = ttest_rel(mfp_monoclonal_min_dist, mfp_polyclonal_min_dist)\n",
    "\n",
    "print(f\"Monoclonal vs Polyclonal mets in the IV treatment group, the p-value is: {iv_mono_poly_ttest.pvalue:0.9f}\")\n",
    "print(f\"Monoclonal vs Polyclonal mets in the MFP treatment group, the p-value is: {mfp_mono_poly_ttest.pvalue:0.9f}\")\n",
    "\n",
    "#t-test for IV vs MFP for each met type\n",
    "iv_mfp_mono_ttest = ttest_ind(iv_monoclonal_min_dist, mfp_monoclonal_min_dist)\n",
    "iv_mfp_poly_ttest = ttest_ind(iv_polyclonal_min_dist, mfp_polyclonal_min_dist)\n",
    "\n",
    "print(f\"Monoclonal mets in the IV vs MFP treatment group, the p-value is: {iv_mfp_mono_ttest.pvalue:0.9f}\")\n",
    "print(f\"Polyclonal mets in the IV vs MFP treatment group, the p-value is: {iv_mfp_poly_ttest.pvalue:0.9f}\")"
   ]
  },
  {
   "cell_type": "markdown",
   "metadata": {},
   "source": [
    "STATS ON RAW DATA GROUP"
   ]
  },
  {
   "cell_type": "code",
   "execution_count": 18,
   "metadata": {},
   "outputs": [
    {
     "name": "stdout",
     "output_type": "stream",
     "text": [
      "RAW UNNORMALIZED MIN DISTANCE (MEDIAN)\n",
      "Monoclonal vs Polyclonal mets in the IV treatment group, the p-value is: 0.288468153\n",
      "Monoclonal vs Polyclonal mets in the MFP treatment group, the p-value is: 0.135989038\n",
      "Monoclonal mets in the IV vs MFP treatment group, the p-value is: 0.482060972\n",
      "Polyclonal mets in the IV vs MFP treatment group, the p-value is: 0.787003462\n"
     ]
    }
   ],
   "source": [
    "\n",
    "print(\"RAW UNNORMALIZED MIN DISTANCE (MEDIAN)\")\n",
    "#t-test for monoclonal vs polyclonal for each treatment\n",
    "iv_monoclonal_min_dist_raw = dist_raw[(dist_raw['treatment']=='IV') & (dist_raw['met_type_cat']=='monoclonal')]['min_dist']\n",
    "iv_polyclonal_min_dist_raw = dist_raw[(dist_raw['treatment']=='IV') & (dist_raw['met_type_cat']=='polyclonal')]['min_dist']\n",
    "\n",
    "mfp_monoclonal_min_dist_raw = dist_raw[(dist_raw['treatment']=='MFP') & (dist_raw['met_type_cat']=='monoclonal')]['min_dist']\n",
    "mfp_polyclonal_min_dist_raw = dist_raw[(dist_raw['treatment']=='MFP') & (dist_raw['met_type_cat']=='polyclonal')]['min_dist']\n",
    "\n",
    "#t-test \n",
    "iv_mono_poly_ttest_raw = ttest_rel(iv_monoclonal_min_dist_raw, iv_polyclonal_min_dist_raw)\n",
    "mfp_mono_poly_ttest_raw = ttest_rel(mfp_monoclonal_min_dist_raw, mfp_polyclonal_min_dist_raw)\n",
    "\n",
    "print(f\"Monoclonal vs Polyclonal mets in the IV treatment group, the p-value is: {iv_mono_poly_ttest_raw.pvalue:0.9f}\")\n",
    "print(f\"Monoclonal vs Polyclonal mets in the MFP treatment group, the p-value is: {mfp_mono_poly_ttest_raw.pvalue:0.9f}\")\n",
    "\n",
    "#t-test for IV vs MFP for each met type\n",
    "iv_mfp_mono_ttest_raw = ttest_ind(iv_monoclonal_min_dist_raw, mfp_monoclonal_min_dist_raw)\n",
    "iv_mfp_poly_ttest_raw = ttest_ind(iv_polyclonal_min_dist_raw, mfp_polyclonal_min_dist_raw)\n",
    "\n",
    "print(f\"Monoclonal mets in the IV vs MFP treatment group, the p-value is: {iv_mfp_mono_ttest_raw.pvalue:0.9f}\")\n",
    "print(f\"Polyclonal mets in the IV vs MFP treatment group, the p-value is: {iv_mfp_poly_ttest_raw.pvalue:0.9f}\")"
   ]
  },
  {
   "cell_type": "markdown",
   "metadata": {},
   "source": []
  }
 ],
 "metadata": {
  "kernelspec": {
   "display_name": "spatialdata",
   "language": "python",
   "name": "python3"
  },
  "language_info": {
   "codemirror_mode": {
    "name": "ipython",
    "version": 3
   },
   "file_extension": ".py",
   "mimetype": "text/x-python",
   "name": "python",
   "nbconvert_exporter": "python",
   "pygments_lexer": "ipython3",
   "version": "3.10.14"
  }
 },
 "nbformat": 4,
 "nbformat_minor": 2
}
