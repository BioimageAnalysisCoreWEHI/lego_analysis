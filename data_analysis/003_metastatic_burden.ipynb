{
 "cells": [
  {
   "cell_type": "markdown",
   "metadata": {},
   "source": [
    "### Calculate and compare metastatic burden across treatments and clone types\n",
    "\n",
    "- Fig 3s,t,v,u\n",
    "- Supp fig 2a"
   ]
  },
  {
   "cell_type": "code",
   "execution_count": null,
   "metadata": {},
   "outputs": [
    {
     "name": "stdout",
     "output_type": "stream",
     "text": [
      "Pandas Version: 2.2.1\n",
      "Seaborn Version: 0.13.2\n",
      "Matplotlib Version: 3.8.4\n"
     ]
    },
    {
     "name": "stderr",
     "output_type": "stream",
     "text": [
      "C:\\Users\\rajasekhar.p\\AppData\\Local\\Temp\\ipykernel_29716\\2183706801.py:11: DtypeWarning: Columns (35) have mixed types. Specify dtype option on import or set low_memory=False.\n",
      "  merged_df = pd.read_csv(\"./MFP_IV_combined_raw_data.csv\")\n"
     ]
    },
    {
     "data": {
      "application/vnd.microsoft.datawrangler.viewer.v0+json": {
       "columns": [
        {
         "name": "index",
         "rawType": "int64",
         "type": "integer"
        },
        {
         "name": "MET_ID",
         "rawType": "float64",
         "type": "float"
        },
        {
         "name": "1",
         "rawType": "float64",
         "type": "float"
        },
        {
         "name": "10",
         "rawType": "float64",
         "type": "float"
        },
        {
         "name": "11",
         "rawType": "float64",
         "type": "float"
        },
        {
         "name": "100",
         "rawType": "float64",
         "type": "float"
        },
        {
         "name": "101",
         "rawType": "float64",
         "type": "float"
        },
        {
         "name": "110",
         "rawType": "float64",
         "type": "float"
        },
        {
         "name": "111",
         "rawType": "float64",
         "type": "float"
        },
        {
         "name": "Volume corrected",
         "rawType": "float64",
         "type": "float"
        },
        {
         "name": "min_dist",
         "rawType": "float64",
         "type": "float"
        },
        {
         "name": "max_dist",
         "rawType": "float64",
         "type": "float"
        },
        {
         "name": "mean_dist",
         "rawType": "float64",
         "type": "float"
        },
        {
         "name": "Nearest Vessel Thickness",
         "rawType": "float64",
         "type": "float"
        },
        {
         "name": "Vessel Volume",
         "rawType": "float64",
         "type": "float"
        },
        {
         "name": "Clone1",
         "rawType": "float64",
         "type": "float"
        },
        {
         "name": "Clone2",
         "rawType": "float64",
         "type": "float"
        },
        {
         "name": "Clone3",
         "rawType": "float64",
         "type": "float"
        },
        {
         "name": "Clone4",
         "rawType": "float64",
         "type": "float"
        },
        {
         "name": "Clone5",
         "rawType": "float64",
         "type": "float"
        },
        {
         "name": "Clone6",
         "rawType": "float64",
         "type": "float"
        },
        {
         "name": "Clone7",
         "rawType": "float64",
         "type": "float"
        },
        {
         "name": "Box.X.Min",
         "rawType": "float64",
         "type": "float"
        },
        {
         "name": "Box.X.Max",
         "rawType": "float64",
         "type": "float"
        },
        {
         "name": "Box.Y.Min",
         "rawType": "float64",
         "type": "float"
        },
        {
         "name": "Box.Y.Max",
         "rawType": "float64",
         "type": "float"
        },
        {
         "name": "Box.Z.Min",
         "rawType": "float64",
         "type": "float"
        },
        {
         "name": "Box.Z.Max",
         "rawType": "float64",
         "type": "float"
        },
        {
         "name": "MetNum_that_touches",
         "rawType": "float64",
         "type": "float"
        },
        {
         "name": "number_of_touchPoints",
         "rawType": "float64",
         "type": "float"
        },
        {
         "name": "total_touching_volume",
         "rawType": "float64",
         "type": "float"
        },
        {
         "name": "total_touching_surface_area/2",
         "rawType": "float64",
         "type": "float"
        },
        {
         "name": "centroid_x",
         "rawType": "float64",
         "type": "float"
        },
        {
         "name": "centroid_y",
         "rawType": "float64",
         "type": "float"
        },
        {
         "name": "centroid_z",
         "rawType": "float64",
         "type": "float"
        },
        {
         "name": "id",
         "rawType": "int64",
         "type": "integer"
        },
        {
         "name": "clone_type",
         "rawType": "object",
         "type": "string"
        },
        {
         "name": "treatment",
         "rawType": "object",
         "type": "string"
        },
        {
         "name": "total_lung_volume",
         "rawType": "float64",
         "type": "float"
        },
        {
         "name": "vessel_volume",
         "rawType": "float64",
         "type": "float"
        },
        {
         "name": "vessel_surface_area",
         "rawType": "float64",
         "type": "float"
        },
        {
         "name": "minor_axis",
         "rawType": "float64",
         "type": "float"
        },
        {
         "name": "major_axis",
         "rawType": "float64",
         "type": "float"
        },
        {
         "name": "elongation",
         "rawType": "float64",
         "type": "float"
        },
        {
         "name": "met_type_cat",
         "rawType": "object",
         "type": "string"
        }
       ],
       "conversionMethod": "pd.DataFrame",
       "ref": "374932d7-2d6e-458b-a746-45c6dd06b053",
       "rows": [
        [
         "0",
         "28.0",
         "0.011734583",
         "0.167992731",
         "0.0",
         "0.511049704",
         "0.0",
         "0.309222983",
         "0.0",
         "220225972.32",
         "0.0",
         "457.2391011",
         "156.8785642",
         "17.063404",
         "9756894.0",
         "1.0",
         "1.0",
         "0.0",
         "1.0",
         "0.0",
         "1.0",
         "0.0",
         "1427.0",
         "1664.0",
         "462.0",
         "799.0",
         "0.0",
         "202.0",
         "28.0",
         "430.0",
         "622010.194",
         "133559.001",
         "1545.5",
         "630.5",
         "80.52008855362413",
         "1064",
         "1_2_4_6",
         "IV",
         "27758497771.791",
         "852975560.819",
         "151017041.746",
         "161.04017710724827",
         "337.0",
         "2.092645487936637",
         "polyclonal"
        ],
        [
         "1",
         "50.0",
         "0.998808105",
         "0.001191895",
         "0.0",
         "0.0",
         "0.0",
         "0.0",
         "0.0",
         "65635.22505600001",
         "282.4320102",
         "334.2006344",
         "311.643467",
         "12.791227",
         "0.0",
         "1.0",
         "1.0",
         "0.0",
         "0.0",
         "0.0",
         "0.0",
         "0.0",
         "976.0",
         "989.0",
         "591.0",
         "605.0",
         "0.0",
         "23.0",
         "0.0",
         "0.0",
         "0.0",
         "0.0",
         "982.5",
         "598.0",
         "9.16812889471958",
         "1064",
         "1_2",
         "IV",
         "27758497771.791",
         "852975560.819",
         "151017041.746",
         "13.0",
         "18.33625778943916",
         "1.4104813684183968",
         "polyclonal"
        ],
        [
         "2",
         "89.0",
         "0.175398902",
         "0.099498449",
         "0.0",
         "0.545721492",
         "0.179381156",
         "0.0",
         "0.0",
         "124651697.04",
         "15.76182731",
         "630.1238624",
         "321.0816896",
         "15.334135",
         "8866896.49",
         "1.0",
         "1.0",
         "0.0",
         "1.0",
         "1.0",
         "0.0",
         "0.0",
         "615.0",
         "991.0",
         "654.0",
         "1013.0",
         "0.0",
         "210.0",
         "0.0",
         "0.0",
         "0.0",
         "0.0",
         "803.0",
         "833.5",
         "83.70900295178747",
         "1064",
         "1_2_4_5",
         "IV",
         "27758497771.791",
         "852975560.819",
         "151017041.746",
         "167.41800590357494",
         "376.0",
         "2.2458755136323787",
         "polyclonal"
        ],
        [
         "3",
         "119.0",
         "0.974494492",
         "0.001365836",
         "0.0",
         "0.024139672",
         "0.0",
         "0.0",
         "0.0",
         "1326003.6528",
         "0.0",
         "104.2700743",
         "46.92124515",
         "22.536263",
         "225496.758",
         "1.0",
         "1.0",
         "0.0",
         "1.0",
         "0.0",
         "0.0",
         "0.0",
         "1583.0",
         "1622.0",
         "703.0",
         "758.0",
         "0.0",
         "47.0",
         "119.0",
         "22.0",
         "61197.3362",
         "9705.758",
         "1602.5",
         "730.5",
         "18.734872089209578",
         "1064",
         "1_2_4",
         "IV",
         "27758497771.791",
         "852975560.819",
         "151017041.746",
         "37.46974417841916",
         "55.0",
         "1.4678509609808723",
         "polyclonal"
        ],
        [
         "4",
         "125.0",
         "0.975768585",
         "0.000219376",
         "0.0",
         "0.024012039",
         "0.0",
         "0.0",
         "0.0",
         "10163211.714",
         "0.0",
         "150.546361",
         "64.83950385",
         "17.669512",
         "2137142.2",
         "1.0",
         "1.0",
         "0.0",
         "1.0",
         "0.0",
         "0.0",
         "0.0",
         "1249.0",
         "1360.0",
         "718.0",
         "816.0",
         "0.0",
         "96.0",
         "125.0",
         "21.0",
         "22924.5924",
         "5663.0521",
         "1304.5",
         "767.0",
         "38.26697277795999",
         "1064",
         "1_2_4",
         "IV",
         "27758497771.791",
         "852975560.819",
         "151017041.746",
         "76.53394555591997",
         "111.0",
         "1.4503368301964414",
         "polyclonal"
        ]
       ],
       "shape": {
        "columns": 44,
        "rows": 5
       }
      },
      "text/html": [
       "<div>\n",
       "<style scoped>\n",
       "    .dataframe tbody tr th:only-of-type {\n",
       "        vertical-align: middle;\n",
       "    }\n",
       "\n",
       "    .dataframe tbody tr th {\n",
       "        vertical-align: top;\n",
       "    }\n",
       "\n",
       "    .dataframe thead th {\n",
       "        text-align: right;\n",
       "    }\n",
       "</style>\n",
       "<table border=\"1\" class=\"dataframe\">\n",
       "  <thead>\n",
       "    <tr style=\"text-align: right;\">\n",
       "      <th></th>\n",
       "      <th>MET_ID</th>\n",
       "      <th>1</th>\n",
       "      <th>10</th>\n",
       "      <th>11</th>\n",
       "      <th>100</th>\n",
       "      <th>101</th>\n",
       "      <th>110</th>\n",
       "      <th>111</th>\n",
       "      <th>Volume corrected</th>\n",
       "      <th>min_dist</th>\n",
       "      <th>...</th>\n",
       "      <th>id</th>\n",
       "      <th>clone_type</th>\n",
       "      <th>treatment</th>\n",
       "      <th>total_lung_volume</th>\n",
       "      <th>vessel_volume</th>\n",
       "      <th>vessel_surface_area</th>\n",
       "      <th>minor_axis</th>\n",
       "      <th>major_axis</th>\n",
       "      <th>elongation</th>\n",
       "      <th>met_type_cat</th>\n",
       "    </tr>\n",
       "  </thead>\n",
       "  <tbody>\n",
       "    <tr>\n",
       "      <th>0</th>\n",
       "      <td>28.0</td>\n",
       "      <td>0.011735</td>\n",
       "      <td>0.167993</td>\n",
       "      <td>0.0</td>\n",
       "      <td>0.511050</td>\n",
       "      <td>0.000000</td>\n",
       "      <td>0.309223</td>\n",
       "      <td>0.0</td>\n",
       "      <td>2.202260e+08</td>\n",
       "      <td>0.000000</td>\n",
       "      <td>...</td>\n",
       "      <td>1064</td>\n",
       "      <td>1_2_4_6</td>\n",
       "      <td>IV</td>\n",
       "      <td>2.775850e+10</td>\n",
       "      <td>8.529756e+08</td>\n",
       "      <td>1.510170e+08</td>\n",
       "      <td>161.040177</td>\n",
       "      <td>337.000000</td>\n",
       "      <td>2.092645</td>\n",
       "      <td>polyclonal</td>\n",
       "    </tr>\n",
       "    <tr>\n",
       "      <th>1</th>\n",
       "      <td>50.0</td>\n",
       "      <td>0.998808</td>\n",
       "      <td>0.001192</td>\n",
       "      <td>0.0</td>\n",
       "      <td>0.000000</td>\n",
       "      <td>0.000000</td>\n",
       "      <td>0.000000</td>\n",
       "      <td>0.0</td>\n",
       "      <td>6.563523e+04</td>\n",
       "      <td>282.432010</td>\n",
       "      <td>...</td>\n",
       "      <td>1064</td>\n",
       "      <td>1_2</td>\n",
       "      <td>IV</td>\n",
       "      <td>2.775850e+10</td>\n",
       "      <td>8.529756e+08</td>\n",
       "      <td>1.510170e+08</td>\n",
       "      <td>13.000000</td>\n",
       "      <td>18.336258</td>\n",
       "      <td>1.410481</td>\n",
       "      <td>polyclonal</td>\n",
       "    </tr>\n",
       "    <tr>\n",
       "      <th>2</th>\n",
       "      <td>89.0</td>\n",
       "      <td>0.175399</td>\n",
       "      <td>0.099498</td>\n",
       "      <td>0.0</td>\n",
       "      <td>0.545721</td>\n",
       "      <td>0.179381</td>\n",
       "      <td>0.000000</td>\n",
       "      <td>0.0</td>\n",
       "      <td>1.246517e+08</td>\n",
       "      <td>15.761827</td>\n",
       "      <td>...</td>\n",
       "      <td>1064</td>\n",
       "      <td>1_2_4_5</td>\n",
       "      <td>IV</td>\n",
       "      <td>2.775850e+10</td>\n",
       "      <td>8.529756e+08</td>\n",
       "      <td>1.510170e+08</td>\n",
       "      <td>167.418006</td>\n",
       "      <td>376.000000</td>\n",
       "      <td>2.245876</td>\n",
       "      <td>polyclonal</td>\n",
       "    </tr>\n",
       "    <tr>\n",
       "      <th>3</th>\n",
       "      <td>119.0</td>\n",
       "      <td>0.974494</td>\n",
       "      <td>0.001366</td>\n",
       "      <td>0.0</td>\n",
       "      <td>0.024140</td>\n",
       "      <td>0.000000</td>\n",
       "      <td>0.000000</td>\n",
       "      <td>0.0</td>\n",
       "      <td>1.326004e+06</td>\n",
       "      <td>0.000000</td>\n",
       "      <td>...</td>\n",
       "      <td>1064</td>\n",
       "      <td>1_2_4</td>\n",
       "      <td>IV</td>\n",
       "      <td>2.775850e+10</td>\n",
       "      <td>8.529756e+08</td>\n",
       "      <td>1.510170e+08</td>\n",
       "      <td>37.469744</td>\n",
       "      <td>55.000000</td>\n",
       "      <td>1.467851</td>\n",
       "      <td>polyclonal</td>\n",
       "    </tr>\n",
       "    <tr>\n",
       "      <th>4</th>\n",
       "      <td>125.0</td>\n",
       "      <td>0.975769</td>\n",
       "      <td>0.000219</td>\n",
       "      <td>0.0</td>\n",
       "      <td>0.024012</td>\n",
       "      <td>0.000000</td>\n",
       "      <td>0.000000</td>\n",
       "      <td>0.0</td>\n",
       "      <td>1.016321e+07</td>\n",
       "      <td>0.000000</td>\n",
       "      <td>...</td>\n",
       "      <td>1064</td>\n",
       "      <td>1_2_4</td>\n",
       "      <td>IV</td>\n",
       "      <td>2.775850e+10</td>\n",
       "      <td>8.529756e+08</td>\n",
       "      <td>1.510170e+08</td>\n",
       "      <td>76.533946</td>\n",
       "      <td>111.000000</td>\n",
       "      <td>1.450337</td>\n",
       "      <td>polyclonal</td>\n",
       "    </tr>\n",
       "  </tbody>\n",
       "</table>\n",
       "<p>5 rows × 44 columns</p>\n",
       "</div>"
      ],
      "text/plain": [
       "   MET_ID         1        10   11       100       101       110  111  \\\n",
       "0    28.0  0.011735  0.167993  0.0  0.511050  0.000000  0.309223  0.0   \n",
       "1    50.0  0.998808  0.001192  0.0  0.000000  0.000000  0.000000  0.0   \n",
       "2    89.0  0.175399  0.099498  0.0  0.545721  0.179381  0.000000  0.0   \n",
       "3   119.0  0.974494  0.001366  0.0  0.024140  0.000000  0.000000  0.0   \n",
       "4   125.0  0.975769  0.000219  0.0  0.024012  0.000000  0.000000  0.0   \n",
       "\n",
       "   Volume corrected    min_dist  ...    id  clone_type  treatment  \\\n",
       "0      2.202260e+08    0.000000  ...  1064     1_2_4_6         IV   \n",
       "1      6.563523e+04  282.432010  ...  1064         1_2         IV   \n",
       "2      1.246517e+08   15.761827  ...  1064     1_2_4_5         IV   \n",
       "3      1.326004e+06    0.000000  ...  1064       1_2_4         IV   \n",
       "4      1.016321e+07    0.000000  ...  1064       1_2_4         IV   \n",
       "\n",
       "   total_lung_volume  vessel_volume  vessel_surface_area  minor_axis  \\\n",
       "0       2.775850e+10   8.529756e+08         1.510170e+08  161.040177   \n",
       "1       2.775850e+10   8.529756e+08         1.510170e+08   13.000000   \n",
       "2       2.775850e+10   8.529756e+08         1.510170e+08  167.418006   \n",
       "3       2.775850e+10   8.529756e+08         1.510170e+08   37.469744   \n",
       "4       2.775850e+10   8.529756e+08         1.510170e+08   76.533946   \n",
       "\n",
       "   major_axis  elongation  met_type_cat  \n",
       "0  337.000000    2.092645    polyclonal  \n",
       "1   18.336258    1.410481    polyclonal  \n",
       "2  376.000000    2.245876    polyclonal  \n",
       "3   55.000000    1.467851    polyclonal  \n",
       "4  111.000000    1.450337    polyclonal  \n",
       "\n",
       "[5 rows x 44 columns]"
      ]
     },
     "execution_count": 1,
     "metadata": {},
     "output_type": "execute_result"
    }
   ],
   "source": [
    "#Read in file\n",
    "import pandas as pd \n",
    "import matplotlib.pyplot as plt\n",
    "import seaborn as sns\n",
    "\n",
    "#Print version of libraries\n",
    "print(f\"Pandas Version: {pd.__version__}\")\n",
    "print(f\"Seaborn Version: {sns.__version__}\")\n",
    "print(f\"Matplotlib Version: {plt.matplotlib.__version__}\")\n",
    "\n",
    "merged_df = pd.read_csv(\"./MFP_IV_combined_raw_data.csv\")\n",
    "\n",
    "merged_df.head()"
   ]
  },
  {
   "cell_type": "code",
   "execution_count": 2,
   "metadata": {},
   "outputs": [
    {
     "data": {
      "text/plain": [
       "Index(['MET_ID', '1', '10', '11', '100', '101', '110', '111',\n",
       "       'Volume corrected', 'min_dist', 'max_dist', 'mean_dist',\n",
       "       'Nearest Vessel Thickness', 'Vessel Volume', 'Clone1', 'Clone2',\n",
       "       'Clone3', 'Clone4', 'Clone5', 'Clone6', 'Clone7', 'Box.X.Min',\n",
       "       'Box.X.Max', 'Box.Y.Min', 'Box.Y.Max', 'Box.Z.Min', 'Box.Z.Max',\n",
       "       'MetNum_that_touches', 'number_of_touchPoints', 'total_touching_volume',\n",
       "       'total_touching_surface_area/2', 'centroid_x', 'centroid_y',\n",
       "       'centroid_z', 'id', 'clone_type', 'treatment', 'total_lung_volume',\n",
       "       'vessel_volume', 'vessel_surface_area', 'minor_axis', 'major_axis',\n",
       "       'elongation', 'met_type_cat'],\n",
       "      dtype='object')"
      ]
     },
     "execution_count": 2,
     "metadata": {},
     "output_type": "execute_result"
    }
   ],
   "source": [
    "merged_df.columns"
   ]
  },
  {
   "cell_type": "markdown",
   "metadata": {},
   "source": [
    "## MET BURDEN"
   ]
  },
  {
   "cell_type": "code",
   "execution_count": 4,
   "metadata": {},
   "outputs": [
    {
     "name": "stdout",
     "output_type": "stream",
     "text": [
      "Total No of METs for each mouse\n"
     ]
    },
    {
     "data": {
      "application/vnd.microsoft.datawrangler.viewer.v0+json": {
       "columns": [
        {
         "name": "index",
         "rawType": "int64",
         "type": "integer"
        },
        {
         "name": "treatment",
         "rawType": "object",
         "type": "string"
        },
        {
         "name": "id",
         "rawType": "int64",
         "type": "integer"
        },
        {
         "name": "total_lung_volume",
         "rawType": "float64",
         "type": "float"
        },
        {
         "name": "total_no",
         "rawType": "int64",
         "type": "integer"
        },
        {
         "name": "normalized_no",
         "rawType": "float64",
         "type": "float"
        }
       ],
       "conversionMethod": "pd.DataFrame",
       "ref": "964ef4e0-fbf4-4c3f-ac7a-7e3f8758c720",
       "rows": [
        [
         "0",
         "IV",
         "883",
         "78895468971.0",
         "2781",
         "3.5249172560495534e-08"
        ],
        [
         "1",
         "IV",
         "934",
         "44501372406.0",
         "405",
         "9.100842920192613e-09"
        ],
        [
         "2",
         "IV",
         "935",
         "183471705144.0",
         "5356",
         "2.919251225030191e-08"
        ],
        [
         "3",
         "IV",
         "1064",
         "27758497771.791",
         "2896",
         "1.0432841228688535e-07"
        ],
        [
         "4",
         "IV",
         "1066",
         "66082082642.892",
         "2356",
         "3.5652629362967256e-08"
        ],
        [
         "5",
         "MFP",
         "1067",
         "33521100642.144",
         "1380",
         "4.1168099303547674e-08"
        ],
        [
         "6",
         "MFP",
         "1069",
         "19324857042.0",
         "1426",
         "7.37909727818829e-08"
        ],
        [
         "7",
         "MFP",
         "1070",
         "42457689972.0",
         "3406",
         "8.022103892713403e-08"
        ],
        [
         "8",
         "MFP",
         "1381",
         "79504462103.895",
         "1146",
         "1.4414285307690375e-08"
        ]
       ],
       "shape": {
        "columns": 5,
        "rows": 9
       }
      },
      "text/html": [
       "<div>\n",
       "<style scoped>\n",
       "    .dataframe tbody tr th:only-of-type {\n",
       "        vertical-align: middle;\n",
       "    }\n",
       "\n",
       "    .dataframe tbody tr th {\n",
       "        vertical-align: top;\n",
       "    }\n",
       "\n",
       "    .dataframe thead th {\n",
       "        text-align: right;\n",
       "    }\n",
       "</style>\n",
       "<table border=\"1\" class=\"dataframe\">\n",
       "  <thead>\n",
       "    <tr style=\"text-align: right;\">\n",
       "      <th></th>\n",
       "      <th>treatment</th>\n",
       "      <th>id</th>\n",
       "      <th>total_lung_volume</th>\n",
       "      <th>total_no</th>\n",
       "      <th>normalized_no</th>\n",
       "    </tr>\n",
       "  </thead>\n",
       "  <tbody>\n",
       "    <tr>\n",
       "      <th>0</th>\n",
       "      <td>IV</td>\n",
       "      <td>883</td>\n",
       "      <td>7.889547e+10</td>\n",
       "      <td>2781</td>\n",
       "      <td>3.524917e-08</td>\n",
       "    </tr>\n",
       "    <tr>\n",
       "      <th>1</th>\n",
       "      <td>IV</td>\n",
       "      <td>934</td>\n",
       "      <td>4.450137e+10</td>\n",
       "      <td>405</td>\n",
       "      <td>9.100843e-09</td>\n",
       "    </tr>\n",
       "    <tr>\n",
       "      <th>2</th>\n",
       "      <td>IV</td>\n",
       "      <td>935</td>\n",
       "      <td>1.834717e+11</td>\n",
       "      <td>5356</td>\n",
       "      <td>2.919251e-08</td>\n",
       "    </tr>\n",
       "    <tr>\n",
       "      <th>3</th>\n",
       "      <td>IV</td>\n",
       "      <td>1064</td>\n",
       "      <td>2.775850e+10</td>\n",
       "      <td>2896</td>\n",
       "      <td>1.043284e-07</td>\n",
       "    </tr>\n",
       "    <tr>\n",
       "      <th>4</th>\n",
       "      <td>IV</td>\n",
       "      <td>1066</td>\n",
       "      <td>6.608208e+10</td>\n",
       "      <td>2356</td>\n",
       "      <td>3.565263e-08</td>\n",
       "    </tr>\n",
       "    <tr>\n",
       "      <th>5</th>\n",
       "      <td>MFP</td>\n",
       "      <td>1067</td>\n",
       "      <td>3.352110e+10</td>\n",
       "      <td>1380</td>\n",
       "      <td>4.116810e-08</td>\n",
       "    </tr>\n",
       "    <tr>\n",
       "      <th>6</th>\n",
       "      <td>MFP</td>\n",
       "      <td>1069</td>\n",
       "      <td>1.932486e+10</td>\n",
       "      <td>1426</td>\n",
       "      <td>7.379097e-08</td>\n",
       "    </tr>\n",
       "    <tr>\n",
       "      <th>7</th>\n",
       "      <td>MFP</td>\n",
       "      <td>1070</td>\n",
       "      <td>4.245769e+10</td>\n",
       "      <td>3406</td>\n",
       "      <td>8.022104e-08</td>\n",
       "    </tr>\n",
       "    <tr>\n",
       "      <th>8</th>\n",
       "      <td>MFP</td>\n",
       "      <td>1381</td>\n",
       "      <td>7.950446e+10</td>\n",
       "      <td>1146</td>\n",
       "      <td>1.441429e-08</td>\n",
       "    </tr>\n",
       "  </tbody>\n",
       "</table>\n",
       "</div>"
      ],
      "text/plain": [
       "  treatment    id  total_lung_volume  total_no  normalized_no\n",
       "0        IV   883       7.889547e+10      2781   3.524917e-08\n",
       "1        IV   934       4.450137e+10       405   9.100843e-09\n",
       "2        IV   935       1.834717e+11      5356   2.919251e-08\n",
       "3        IV  1064       2.775850e+10      2896   1.043284e-07\n",
       "4        IV  1066       6.608208e+10      2356   3.565263e-08\n",
       "5       MFP  1067       3.352110e+10      1380   4.116810e-08\n",
       "6       MFP  1069       1.932486e+10      1426   7.379097e-08\n",
       "7       MFP  1070       4.245769e+10      3406   8.022104e-08\n",
       "8       MFP  1381       7.950446e+10      1146   1.441429e-08"
      ]
     },
     "execution_count": 4,
     "metadata": {},
     "output_type": "execute_result"
    }
   ],
   "source": [
    "#Sanity check\n",
    "print(\"Total No of METs for each mouse\")\n",
    "total_mets_per_mouse = merged_df.groupby(['treatment', 'id','total_lung_volume']).size().reset_index(name='total_no')\n",
    "#total_mets_per_mouse.to_csv(\"./final_graphs/total_mets_per_mouse.csv\")\n",
    "total_mets_per_mouse['normalized_no'] = total_mets_per_mouse['total_no']/total_mets_per_mouse['total_lung_volume']\n",
    "total_mets_per_mouse"
   ]
  },
  {
   "cell_type": "code",
   "execution_count": 10,
   "metadata": {},
   "outputs": [
    {
     "data": {
      "image/png": "[encoded data removed]",
      "text/plain": [
       "<Figure size 640x480 with 1 Axes>"
      ]
     },
     "metadata": {},
     "output_type": "display_data"
    }
   ],
   "source": [
    "sns.boxplot(x='treatment', y='normalized_no', data=total_mets_per_mouse,showfliers=False)\n",
    "sns.swarmplot(x='treatment', y='normalized_no', data=total_mets_per_mouse, color=\"black\",dodge=True)\n",
    "plt.ylabel(\"No of METs/lung volume\")\n",
    "plt.savefig(\"./final_graphs/fig3/3s_total_no_mets_norm_lung_volume.eps\", format='eps',dpi=300)"
   ]
  },
  {
   "cell_type": "markdown",
   "metadata": {},
   "source": [
    "independent t-test"
   ]
  },
  {
   "cell_type": "code",
   "execution_count": 22,
   "metadata": {},
   "outputs": [
    {
     "name": "stdout",
     "output_type": "stream",
     "text": [
      "Scipy Version: 1.13.0\n"
     ]
    },
    {
     "data": {
      "text/plain": [
       "TtestResult(statistic=-0.4270532910517018, pvalue=0.6821685912298878, df=7.0)"
      ]
     },
     "execution_count": 22,
     "metadata": {},
     "output_type": "execute_result"
    }
   ],
   "source": [
    "#t-test\n",
    "from scipy.stats import ttest_ind\n",
    "\n",
    "#print version of scipy\n",
    "import scipy\n",
    "print(f\"Scipy Version: {scipy.__version__}\")\n",
    "\n",
    "iv_mets = total_mets_per_mouse[total_mets_per_mouse['treatment']=='IV']['normalized_no']\n",
    "mfp_mets = total_mets_per_mouse[total_mets_per_mouse['treatment']=='MFP']['normalized_no']\n",
    "ttest_ind(iv_mets, mfp_mets)"
   ]
  },
  {
   "cell_type": "code",
   "execution_count": 15,
   "metadata": {},
   "outputs": [
    {
     "data": {
      "image/png": "[encoded data removed]",
      "text/plain": [
       "<Figure size 640x480 with 1 Axes>"
      ]
     },
     "metadata": {},
     "output_type": "display_data"
    }
   ],
   "source": [
    "#Add all Met volumes and divide by total lung volume\n",
    "#Add all the Met Volumes\n",
    "met_volume_df = merged_df.groupby(['treatment','id','total_lung_volume']).agg({'Volume corrected':'sum'}).reset_index()\n",
    "#Divide the sum of all MET volumes by the total lung volume for each animal\n",
    "met_volume_df['perc_vol_met_lung'] = met_volume_df['Volume corrected']/met_volume_df['total_lung_volume']\n",
    "met_volume_df.to_csv(\"./final_graphs/fig3/total_mets_burden_mouse.csv\")\n",
    "\n",
    "sns.boxplot(data=met_volume_df, x='treatment', y='perc_vol_met_lung')#, inner='point')\n",
    "sns.swarmplot(data=met_volume_df, x='treatment', y='perc_vol_met_lung', color='black',dodge=True)\n",
    "plt.title(\"MET vol (sum)/Total Lung volume\")\n",
    "plt.ylabel(\"Total Metastasis Volume/ lung volume\")\n",
    "plt.savefig(\"./final_graphs/fig3/3t_perc_lung_vol_met_boxplot.eps\", format=\"eps\",dpi=300)"
   ]
  },
  {
   "cell_type": "markdown",
   "metadata": {},
   "source": [
    "t-test"
   ]
  },
  {
   "cell_type": "code",
   "execution_count": 24,
   "metadata": {},
   "outputs": [
    {
     "data": {
      "text/plain": [
       "TtestResult(statistic=-0.5382834790776115, pvalue=0.6070648277676223, df=7.0)"
      ]
     },
     "execution_count": 24,
     "metadata": {},
     "output_type": "execute_result"
    }
   ],
   "source": [
    "iv_met_vol = met_volume_df[met_volume_df['treatment']=='IV']['perc_vol_met_lung']\n",
    "mfp_met_vol = met_volume_df[met_volume_df['treatment']=='MFP']['perc_vol_met_lung']\n",
    "ttest_ind(iv_met_vol, mfp_met_vol)"
   ]
  },
  {
   "cell_type": "code",
   "execution_count": 16,
   "metadata": {},
   "outputs": [
    {
     "name": "stderr",
     "output_type": "stream",
     "text": [
      "The PostScript backend does not support transparency; partially transparent artists will be rendered opaque.\n"
     ]
    },
    {
     "data": {
      "image/png": "[encoded data removed]",
      "text/plain": [
       "<Figure size 640x480 with 1 Axes>"
      ]
     },
     "metadata": {},
     "output_type": "display_data"
    }
   ],
   "source": [
    "sns.boxplot(merged_df, x='id', y='Volume corrected',hue='treatment',showfliers=True)\n",
    "plt.yscale('log')\n",
    "plt.ylabel(\"MET volume (log scale)\")\n",
    "#move legend outside the plot\n",
    "plt.legend(loc='upper left', bbox_to_anchor=(1, 1))\n",
    "#draw horizontal dotted line at 10^4\n",
    "plt.savefig(\"./final_graphs/supplementary/supp_fig2a_vol_distribution_mouse.eps\", format=\"eps\",dpi=300)"
   ]
  },
  {
   "cell_type": "markdown",
   "metadata": {},
   "source": [
    "#### Plot percentage volume of Mets based on treatment and MET type"
   ]
  },
  {
   "cell_type": "code",
   "execution_count": 28,
   "metadata": {},
   "outputs": [
    {
     "name": "stderr",
     "output_type": "stream",
     "text": [
      "C:\\Users\\rajasekhar.p\\AppData\\Local\\Temp\\ipykernel_29716\\2455490038.py:6: FutureWarning: \n",
      "\n",
      "Setting a gradient palette using color= is deprecated and will be removed in v0.14.0. Set `palette='dark:black'` for the same effect.\n",
      "\n",
      "  sns.swarmplot(data=met_volume_df, x='treatment', y='perc_vol_met_lung', hue='met_type_cat', color='black',dodge=True,legend=False)\n",
      "The PostScript backend does not support transparency; partially transparent artists will be rendered opaque.\n"
     ]
    },
    {
     "data": {
      "image/png": "[encoded data removed]",
      "text/plain": [
       "<Figure size 640x480 with 1 Axes>"
      ]
     },
     "metadata": {},
     "output_type": "display_data"
    }
   ],
   "source": [
    "met_volume_df = merged_df.groupby(['treatment','id','total_lung_volume','met_type_cat']).agg({'Volume corrected':'sum'}).reset_index()\n",
    "#Divide the sum of all MET volumes by the total lung volume for each animal\n",
    "met_volume_df['perc_vol_met_lung'] = met_volume_df['Volume corrected']/met_volume_df['total_lung_volume']\n",
    "\n",
    "sns.boxplot(data=met_volume_df, x='treatment', y='perc_vol_met_lung', hue='met_type_cat')\n",
    "sns.swarmplot(data=met_volume_df, x='treatment', y='perc_vol_met_lung', hue='met_type_cat', color='black',dodge=True,legend=False)\n",
    "plt.title(\"Percentage vol of METs based on MET type\")\n",
    "plt.ylabel(\"Percentage lung volume of METs\")\n",
    "plt.legend(loc=\"upper left\")\n",
    "plt.savefig(\"./final_graphs/fig3/3V_perc_vol_mets_type_boxplot.eps\", format=\"eps\",dpi=300)"
   ]
  },
  {
   "cell_type": "markdown",
   "metadata": {},
   "source": [
    "##### Statistics (t-test)"
   ]
  },
  {
   "cell_type": "code",
   "execution_count": 30,
   "metadata": {},
   "outputs": [
    {
     "name": "stdout",
     "output_type": "stream",
     "text": [
      "Monoclonal IV vs MFP\n",
      "T test p values : 0.80141173345394\n",
      "Polyclonal IV vs MFP\n",
      "T test p values : 0.6142681332400892\n"
     ]
    }
   ],
   "source": [
    "#run ttest\n",
    "\n",
    "iv_monoclonal_perc_lung_vol = met_volume_df[(met_volume_df['treatment']=='IV') & (met_volume_df['met_type_cat']=='monoclonal')]['perc_vol_met_lung']\n",
    "mfp_monoclonal_perc_lung_vol = met_volume_df[(met_volume_df['treatment']=='MFP') & (met_volume_df['met_type_cat']=='monoclonal')]['perc_vol_met_lung']\n",
    "\n",
    "iv_polyclonal_perc_lung_vol = met_volume_df[(met_volume_df['treatment']=='IV') & (met_volume_df['met_type_cat']=='polyclonal')]['perc_vol_met_lung']\n",
    "mfp_polyclonal_perc_lung_vol = met_volume_df[(met_volume_df['treatment']=='MFP') & (met_volume_df['met_type_cat']=='polyclonal')]['perc_vol_met_lung']\n",
    "\n",
    "iv_mfp_monoclonal = ttest_ind(iv_monoclonal_perc_lung_vol, mfp_monoclonal_perc_lung_vol)\n",
    "iv_mfp_polyclonal = ttest_ind(iv_polyclonal_perc_lung_vol, mfp_polyclonal_perc_lung_vol)\n",
    "\n",
    "\n",
    "print(f\"Monoclonal IV vs MFP\\nT test p values : {iv_mfp_monoclonal.pvalue}\")\n",
    "print(f\"Polyclonal IV vs MFP\\nT test p values : {iv_mfp_polyclonal.pvalue}\")\n",
    "\n",
    "\n"
   ]
  },
  {
   "cell_type": "code",
   "execution_count": 31,
   "metadata": {},
   "outputs": [
    {
     "name": "stdout",
     "output_type": "stream",
     "text": [
      "IV monoclonal vs polyclonal\n",
      "T test p values : 0.20411677305558223\n",
      "MFP monoclonal vs polyclonal\n",
      "T test p values : 0.3468803465399258\n"
     ]
    }
   ],
   "source": [
    "#paired t-test \n",
    "\n",
    "from scipy.stats import ttest_rel\n",
    "\n",
    "\n",
    "iv_monoclonal_polyclonal = ttest_rel(iv_monoclonal_perc_lung_vol, iv_polyclonal_perc_lung_vol)\n",
    "mfp_monoclonal_polyclonal = ttest_rel(mfp_monoclonal_perc_lung_vol, mfp_polyclonal_perc_lung_vol)\n",
    "\n",
    "\n",
    "print(f\"IV monoclonal vs polyclonal\\nT test p values : {iv_monoclonal_polyclonal.pvalue}\")\n",
    "print(f\"MFP monoclonal vs polyclonal\\nT test p values : {mfp_monoclonal_polyclonal.pvalue}\")"
   ]
  },
  {
   "cell_type": "markdown",
   "metadata": {},
   "source": [
    "Get Proportion of Mets in poly vs monoclonal"
   ]
  },
  {
   "cell_type": "code",
   "execution_count": 32,
   "metadata": {},
   "outputs": [
    {
     "data": {
      "application/vnd.microsoft.datawrangler.viewer.v0+json": {
       "columns": [
        {
         "name": "index",
         "rawType": "int64",
         "type": "integer"
        },
        {
         "name": "treatment",
         "rawType": "object",
         "type": "string"
        },
        {
         "name": "id",
         "rawType": "int64",
         "type": "integer"
        },
        {
         "name": "counts",
         "rawType": "int64",
         "type": "integer"
        }
       ],
       "conversionMethod": "pd.DataFrame",
       "ref": "d78f2960-dbd5-4fde-ad13-290be163a01a",
       "rows": [
        [
         "0",
         "IV",
         "883",
         "2781"
        ],
        [
         "1",
         "IV",
         "934",
         "405"
        ],
        [
         "2",
         "IV",
         "935",
         "5356"
        ],
        [
         "3",
         "IV",
         "1064",
         "2896"
        ],
        [
         "4",
         "IV",
         "1066",
         "2356"
        ],
        [
         "5",
         "MFP",
         "1067",
         "1380"
        ],
        [
         "6",
         "MFP",
         "1069",
         "1426"
        ],
        [
         "7",
         "MFP",
         "1070",
         "3406"
        ],
        [
         "8",
         "MFP",
         "1381",
         "1146"
        ]
       ],
       "shape": {
        "columns": 3,
        "rows": 9
       }
      },
      "text/html": [
       "<div>\n",
       "<style scoped>\n",
       "    .dataframe tbody tr th:only-of-type {\n",
       "        vertical-align: middle;\n",
       "    }\n",
       "\n",
       "    .dataframe tbody tr th {\n",
       "        vertical-align: top;\n",
       "    }\n",
       "\n",
       "    .dataframe thead th {\n",
       "        text-align: right;\n",
       "    }\n",
       "</style>\n",
       "<table border=\"1\" class=\"dataframe\">\n",
       "  <thead>\n",
       "    <tr style=\"text-align: right;\">\n",
       "      <th></th>\n",
       "      <th>treatment</th>\n",
       "      <th>id</th>\n",
       "      <th>counts</th>\n",
       "    </tr>\n",
       "  </thead>\n",
       "  <tbody>\n",
       "    <tr>\n",
       "      <th>0</th>\n",
       "      <td>IV</td>\n",
       "      <td>883</td>\n",
       "      <td>2781</td>\n",
       "    </tr>\n",
       "    <tr>\n",
       "      <th>1</th>\n",
       "      <td>IV</td>\n",
       "      <td>934</td>\n",
       "      <td>405</td>\n",
       "    </tr>\n",
       "    <tr>\n",
       "      <th>2</th>\n",
       "      <td>IV</td>\n",
       "      <td>935</td>\n",
       "      <td>5356</td>\n",
       "    </tr>\n",
       "    <tr>\n",
       "      <th>3</th>\n",
       "      <td>IV</td>\n",
       "      <td>1064</td>\n",
       "      <td>2896</td>\n",
       "    </tr>\n",
       "    <tr>\n",
       "      <th>4</th>\n",
       "      <td>IV</td>\n",
       "      <td>1066</td>\n",
       "      <td>2356</td>\n",
       "    </tr>\n",
       "    <tr>\n",
       "      <th>5</th>\n",
       "      <td>MFP</td>\n",
       "      <td>1067</td>\n",
       "      <td>1380</td>\n",
       "    </tr>\n",
       "    <tr>\n",
       "      <th>6</th>\n",
       "      <td>MFP</td>\n",
       "      <td>1069</td>\n",
       "      <td>1426</td>\n",
       "    </tr>\n",
       "    <tr>\n",
       "      <th>7</th>\n",
       "      <td>MFP</td>\n",
       "      <td>1070</td>\n",
       "      <td>3406</td>\n",
       "    </tr>\n",
       "    <tr>\n",
       "      <th>8</th>\n",
       "      <td>MFP</td>\n",
       "      <td>1381</td>\n",
       "      <td>1146</td>\n",
       "    </tr>\n",
       "  </tbody>\n",
       "</table>\n",
       "</div>"
      ],
      "text/plain": [
       "  treatment    id  counts\n",
       "0        IV   883    2781\n",
       "1        IV   934     405\n",
       "2        IV   935    5356\n",
       "3        IV  1064    2896\n",
       "4        IV  1066    2356\n",
       "5       MFP  1067    1380\n",
       "6       MFP  1069    1426\n",
       "7       MFP  1070    3406\n",
       "8       MFP  1381    1146"
      ]
     },
     "execution_count": 32,
     "metadata": {},
     "output_type": "execute_result"
    }
   ],
   "source": [
    "#Plot proportion of clones counts by met_type_cat\n",
    "met_type_cat = merged_df.groupby(['treatment','id','met_type_cat']).size().reset_index(name='counts')\n",
    "met_type_cat_total = merged_df.groupby(['treatment','id']).size().reset_index(name='counts')\n",
    "met_type_cat_total"
   ]
  },
  {
   "cell_type": "code",
   "execution_count": 36,
   "metadata": {},
   "outputs": [
    {
     "name": "stderr",
     "output_type": "stream",
     "text": [
      "C:\\Users\\rajasekhar.p\\AppData\\Local\\Temp\\ipykernel_29716\\4251091565.py:4: FutureWarning: \n",
      "\n",
      "Setting a gradient palette using color= is deprecated and will be removed in v0.14.0. Set `palette='dark:black'` for the same effect.\n",
      "\n",
      "  sns.swarmplot(data=met_proportion_cat, x='treatment', y='proportion',hue='met_type_cat',color='black',dodge=True,legend=False)\n",
      "The PostScript backend does not support transparency; partially transparent artists will be rendered opaque.\n"
     ]
    },
    {
     "data": {
      "image/png": "[encoded data removed]",
      "text/plain": [
       "<Figure size 640x480 with 1 Axes>"
      ]
     },
     "metadata": {},
     "output_type": "display_data"
    }
   ],
   "source": [
    "met_proportion_cat = met_type_cat.merge(met_type_cat_total, on=['treatment','id'], how='left')\n",
    "met_proportion_cat['proportion'] = met_proportion_cat['counts_x']*100/met_proportion_cat['counts_y']\n",
    "sns.boxplot(data=met_proportion_cat, x='treatment', y='proportion',hue='met_type_cat') \n",
    "sns.swarmplot(data=met_proportion_cat, x='treatment', y='proportion',hue='met_type_cat',color='black',dodge=True,legend=False) \n",
    "#outer right legend\n",
    "plt.legend(title='MET type', bbox_to_anchor=(1.05, 1), loc='upper left')\n",
    "plt.ylabel(\"Percentage of total METs\")\n",
    "plt.xlabel(\"Treatment\")\n",
    "plt.savefig(\"./final_graphs/fig3/fig3U_percentage_mets_boxplot.eps\", format=\"eps\",dpi=300)\n"
   ]
  },
  {
   "cell_type": "markdown",
   "metadata": {},
   "source": [
    "STATS"
   ]
  },
  {
   "cell_type": "code",
   "execution_count": 37,
   "metadata": {},
   "outputs": [
    {
     "name": "stdout",
     "output_type": "stream",
     "text": [
      "IV monoclonal vs polyclonal 4.341071569504485e-05\n",
      "MFP monoclonal vs polyclonal 0.0004384544762355485\n"
     ]
    }
   ],
   "source": [
    "from scipy.stats import ttest_rel\n",
    "\n",
    "iv_monoclonal_proportion = met_proportion_cat[(met_proportion_cat['treatment']=='IV') & (met_proportion_cat['met_type_cat']=='monoclonal')]['proportion']\n",
    "iv_polyclonal_proportion = met_proportion_cat[(met_proportion_cat['treatment']=='IV') & (met_proportion_cat['met_type_cat']=='polyclonal')]['proportion']\n",
    "\n",
    "ttest_iv = ttest_rel(iv_monoclonal_proportion, iv_polyclonal_proportion)\n",
    "\n",
    "print(f\"IV monoclonal vs polyclonal {ttest_iv.pvalue}\")\n",
    "\n",
    "\n",
    "mfp_monoclonal_proportion = met_proportion_cat[(met_proportion_cat['treatment']=='MFP') & (met_proportion_cat['met_type_cat']=='monoclonal')]['proportion']\n",
    "mfp_polyclonal_proportion = met_proportion_cat[(met_proportion_cat['treatment']=='MFP') & (met_proportion_cat['met_type_cat']=='polyclonal')]['proportion']\n",
    "\n",
    "ttest_mfp = ttest_rel(mfp_monoclonal_proportion, mfp_polyclonal_proportion)\n",
    "\n",
    "print(f\"MFP monoclonal vs polyclonal {ttest_mfp.pvalue}\")"
   ]
  }
 ],
 "metadata": {
  "kernelspec": {
   "display_name": "spatialdata",
   "language": "python",
   "name": "python3"
  },
  "language_info": {
   "codemirror_mode": {
    "name": "ipython",
    "version": 3
   },
   "file_extension": ".py",
   "mimetype": "text/x-python",
   "name": "python",
   "nbconvert_exporter": "python",
   "pygments_lexer": "ipython3",
   "version": "3.10.14"
  }
 },
 "nbformat": 4,
 "nbformat_minor": 2
}
