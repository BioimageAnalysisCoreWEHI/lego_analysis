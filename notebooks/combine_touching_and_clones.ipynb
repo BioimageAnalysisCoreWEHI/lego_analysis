{
 "cells": [
  {
   "cell_type": "code",
   "execution_count": 1,
   "id": "5360fb62",
   "metadata": {},
   "outputs": [],
   "source": [
    "import os\n",
    "import re\n",
    "import csv"
   ]
  },
  {
   "cell_type": "code",
   "execution_count": 2,
   "id": "3bb20109",
   "metadata": {},
   "outputs": [],
   "source": [
    "basepath = \"/vast/imaging/Lachie/sabrina/916/\"\n",
    "clone_results_file = \"20230517_validated_916_FILTERED_results.csv\"\n",
    "touching_file = \"Touching_stuff.csv\"\n",
    "\n",
    "\n",
    "clone_res_f = os.path.join(basepath,clone_results_file)\n",
    "touching_stuff_f = os.path.join(basepath,touching_file)\n",
    "\n",
    "\n"
   ]
  },
  {
   "cell_type": "code",
   "execution_count": 3,
   "id": "49b5494c",
   "metadata": {},
   "outputs": [],
   "source": [
    "with open(clone_res_f,'r') as f:\n",
    "    reader = csv.reader(f)\n",
    "    clone_data = list(reader)"
   ]
  },
  {
   "cell_type": "code",
   "execution_count": 4,
   "id": "db3eff0f",
   "metadata": {},
   "outputs": [
    {
     "data": {
      "text/plain": [
       "['MET_ID',\n",
       " 'Volume',\n",
       " '001',\n",
       " '010',\n",
       " '011',\n",
       " '100',\n",
       " '101',\n",
       " '110',\n",
       " '111',\n",
       " 'min_dist',\n",
       " 'max_dist',\n",
       " 'mean_dist',\n",
       " 'Nearest Vessel Thickness',\n",
       " 'notes']"
      ]
     },
     "execution_count": 4,
     "metadata": {},
     "output_type": "execute_result"
    }
   ],
   "source": [
    "clone_data.pop(0)"
   ]
  },
  {
   "cell_type": "code",
   "execution_count": 5,
   "id": "22f24cfa",
   "metadata": {},
   "outputs": [],
   "source": [
    "with open(touching_stuff_f,'r') as f:\n",
    "    reader = csv.reader(f)\n",
    "    touching_stuff_data = list(reader)"
   ]
  },
  {
   "cell_type": "code",
   "execution_count": 6,
   "id": "9b7b2239",
   "metadata": {},
   "outputs": [
    {
     "data": {
      "text/plain": [
       "['metID ', ' metVol(vox) ', ' touchingVol(vox) ', ' Number of points']"
      ]
     },
     "execution_count": 6,
     "metadata": {},
     "output_type": "execute_result"
    }
   ],
   "source": [
    "touching_stuff_data.pop(0)"
   ]
  },
  {
   "cell_type": "code",
   "execution_count": 7,
   "id": "21e2d785",
   "metadata": {},
   "outputs": [],
   "source": [
    "output = []"
   ]
  },
  {
   "cell_type": "code",
   "execution_count": 8,
   "id": "43557955",
   "metadata": {},
   "outputs": [],
   "source": [
    "for thisMet in touching_stuff_data:\n",
    "    thisMetId = int(thisMet[0])\n",
    "    match = [x for x in clone_data if int(x[0]) == thisMetId]\n",
    "    match = match[0]\n",
    "    x = thisMet + match[1:]\n",
    "    output.append(x)\n",
    "    "
   ]
  },
  {
   "cell_type": "code",
   "execution_count": 9,
   "id": "029eb1e5",
   "metadata": {},
   "outputs": [],
   "source": [
    "headings = ['metId','metVol(vox) ', ' touchingVol(vox) ', ' Number of points','Volume',\n",
    " '001',\n",
    " '010',\n",
    " '011',\n",
    " '100',\n",
    " '101',\n",
    " '110',\n",
    " '111',\n",
    " 'min_dist',\n",
    " 'max_dist',\n",
    " 'mean_dist',\n",
    " 'Nearest Vessel Thickness',\n",
    " 'notes']"
   ]
  },
  {
   "cell_type": "code",
   "execution_count": 10,
   "id": "c1e785da",
   "metadata": {},
   "outputs": [],
   "source": [
    "filename = 'touching_and_clones.csv'\n",
    "filepath = os.path.join(basepath,filename)\n",
    "\n",
    "with open(filepath,\"w\", newline=\"\") as file:\n",
    "    writer = csv.writer(file)\n",
    "    writer.writerow(headings)\n",
    "    writer.writerows(output)"
   ]
  },
  {
   "cell_type": "code",
   "execution_count": null,
   "id": "1ab2dc86",
   "metadata": {},
   "outputs": [],
   "source": []
  }
 ],
 "metadata": {
  "kernelspec": {
   "display_name": "Python (bac2)",
   "language": "python",
   "name": "bac2"
  },
  "language_info": {
   "codemirror_mode": {
    "name": "ipython",
    "version": 3
   },
   "file_extension": ".py",
   "mimetype": "text/x-python",
   "name": "python",
   "nbconvert_exporter": "python",
   "pygments_lexer": "ipython3",
   "version": "3.9.15"
  }
 },
 "nbformat": 4,
 "nbformat_minor": 5
}
