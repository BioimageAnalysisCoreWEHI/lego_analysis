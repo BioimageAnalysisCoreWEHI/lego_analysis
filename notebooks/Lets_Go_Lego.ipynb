{
 "cells": [
  {
   "cell_type": "markdown",
   "metadata": {},
   "source": [
    "# Let's Go Lego\n",
    "\n",
    "You'll need a jupyter-kernel that has yaml.\n",
    "\n",
    "⠀⠀⠀⠀⠀⠀⠀⠀⣀⣤⣶⣶⣶⣶⣤⡀⠀⠀⢀⣠⣴⣶⣶⣾⣿⣿⣷⣶⣤⣀⠀⢀⣠⣴⣶⣶⣶⣶⣶⣶⣶⣤⣀⠀⠀⠀⢀⣠⣤⣶⣶⣶⣶⣶⣶⣤⣄⠀⠀⠀\n",
    "⠀⠀⠀⠀⠀⠀⢠⣾⣿⣿⠿⠛⠛⠿⣿⣿⣄⣴⣿⣿⠿⠟⠛⠛⠛⠛⠛⠻⣿⣿⣿⣿⣿⠿⠟⠛⠛⠛⠛⠛⠿⢿⣿⣷⣄⣴⣿⣿⡿⠿⠛⠛⠛⠛⠻⢿⣿⣿⣄⠀\n",
    "⠀⠀⠀⠀⠀⣰⣿⣿⠏⠀⠀⠀⠀⠀⣿⣿⣿⣿⠟⠁⠀⠀⠀⠀⠀⠀⠀⠀⠈⣿⡿⠋⠁⠀⠀⠀⠀⠀⠀⠀⠀⠀⢹⣿⣿⣿⠟⠁⠀⠀⠀⠀⠀⠀⠀⠀⠙⣿⣿⣆\n",
    "⠀⠀⠀⠀⣰⣿⣿⠏⠀⠀⠀⠀⠀⢰⣿⣿⣿⠃⠀⠀⠀⠀⠀⠀⠀⠀⠀⢀⣼⡟⠁⠀⠀⠀⠀⣀⣀⡀⠀⠀⠀⠀⢀⣿⡿⠃⠀⠀⠀⠀⢀⣀⠀⠀⠀⠀⠀⢸⣿⣿\n",
    "⠀⠀⠀⢠⣿⣿⠏⠀⠀⠀⠀⠀⢀⣿⣿⣿⠃⠀⠀⠀⠀⢀⣶⣶⣶⣶⣾⣿⡟⠀⠀⠀⠀⠀⣼⣿⣿⠁⠀⠀⠀⠀⣼⣿⠁⠀⠀⠀⠀⣰⣿⣿⠇⠀⠀⠀⠀⢸⣿⣿\n",
    "⠀⠀⢠⣿⣿⡏⠀⠀⠀⠀⠀⢀⣾⣿⣿⠏⠀⠀⠀⠀⠀⠚⠛⠛⠿⣿⣿⡟⠀⠀⠀⠀⠀⣼⣿⣿⣿⣦⣤⣤⣴⣾⣿⠃⠀⠀⠀⠀⢠⣿⣿⡿⠀⠀⠀⠀⠀⣾⣿⡟\n",
    "⠀⠀⣾⣿⡟⠀⠀⠀⠀⠀⠀⣼⣿⣿⡟⠀⠀⠀⠀⠀⠀⠀⠀⠀⠀⢸⡿⠁⠀⠀⠀⠀⣸⣿⠋⠉⠀⠀⠀⠉⢿⣿⡏⠀⠀⠀⠀⢀⣾⣿⣿⠃⠀⠀⠀⠀⢰⣿⣿⠇\n",
    "⠀⣸⣿⣿⠁⠀⠀⠀⠀⠀⣼⣿⣿⣿⠁⠀⠀⠀⠀⠀⠀⠀⠀⢀⣠⣿⠇⠀⠀⠀⠀⢠⣿⡇⠀⠀⠀⠀⠀⠀⢸⣿⠀⠀⠀⠀⠀⣼⣿⣿⡏⠀⠀⠀⠀⠀⣾⣿⡟⠀\n",
    "⢠⣿⣿⠇⠀⠀⠀⠀⠀⣼⣿⣿⣿⡏⠀⠀⠀⠀⠀⣿⣿⣿⣿⣿⣿⡿⠀⠀⠀⠀⠀⣾⣿⣿⣶⠀⠀⠀⠀⠀⣾⡇⠀⠀⠀⠀⢠⣿⣿⡿⠀⠀⠀⠀⠀⣼⣿⣿⠁⠀\n",
    "⣸⣿⣿⠀⠀⠀⠀⠀⠘⠛⠛⠿⣿⠃⠀⠀⠀⠀⠸⠛⠛⠛⠛⠻⣿⡇⠀⠀⠀⠀⠀⣿⣿⡿⠃⠀⠀⠀⠀⣰⣿⠀⠀⠀⠀⠀⢼⣿⡿⠁⠀⠀⠀⠀⣰⣿⣿⠃⠀⠀\n",
    "⣿⣿⡇⠀⠀⠀⠀⠀⠀⠀⠀⠀⢸⡀⠀⠀⠀⠀⠀⠀⠀⠀⠀⠀⢸⣇⠀⠀⠀⠀⠀⠈⠁⠀⠀⠀⠀⠀⣴⣿⣿⠀⠀⠀⠀⠀⠀⠁⠀⠀⠀⠀⠀⣰⣿⣿⠃⠀⠀⠀\n",
    "⢿⣿⣧⠀⠀⠀⠀⠀⠀⠀⠀⣠⣿⣧⡀⠀⠀⠀⠀⠀⠀⠀⠀⣠⣾⣿⣄⠀⠀⠀⠀⠀⠀⠀⠀⠀⣠⣾⣿⣿⣿⣇⠀⠀⠀⠀⠀⠀⠀⠀⠀⣠⣾⣿⡿⠃⠀⠀⠀⠀\n",
    "⠘⢿⣿⣷⣤⣤⣤⣤⣤⣴⣾⣿⣿⣿⣿⣦⣤⣄⣀⣤⣤⣴⣾⣿⣿⣿⣿⣷⣤⣤⣄⣠⣤⣤⣶⣿⣿⡿⠋⠙⢿⣿⣷⣦⣤⣄⣀⣤⣤⣴⣾⣿⣿⠟⠁⠀⠀⠀⠀⠀\n",
    "⠀⠀⠙⠻⠿⠿⣿⡿⠿⠿⠟⠋⠁⠉⠛⠿⢿⣿⣿⣿⠿⠿⠟⠋⠀⠈⠙⠻⠿⣿⣿⣿⡿⠿⠿⠛⠁⠀⠀⠀⠀⠙⠻⠿⢿⣿⣿⣿⡿⠿⠟⠋⠀⠀⠀⠀⠀⠀⠀⠀"
   ]
  },
  {
   "cell_type": "code",
   "execution_count": 1,
   "metadata": {},
   "outputs": [],
   "source": [
    "import os \n",
    "import yaml"
   ]
  },
  {
   "cell_type": "code",
   "execution_count": 2,
   "metadata": {},
   "outputs": [],
   "source": [
    "base_directory = \"/vast/scratch/users/whitehead/sabrina/883/\"\n",
    "project_directory = \"/vast/imaging/Sabrina/New_new/883/\""
   ]
  },
  {
   "cell_type": "code",
   "execution_count": 3,
   "metadata": {},
   "outputs": [],
   "source": [
    "if not os.path.exists(base_directory):\n",
    "    os.mkdir(base_directory)"
   ]
  },
  {
   "cell_type": "code",
   "execution_count": 4,
   "metadata": {},
   "outputs": [],
   "source": [
    "required_info = {\n",
    "    \"raw_image\":\"/vast/imaging/Sabrina/New_new/883/210513_Ms883_PACT clearing_lunglobe_lightsheet_stacktile-Dual Side Fusion-01.czi\",\n",
    "    \"csv_file\": \"/vast/imaging/Sabrina/New_new/883/tmp_metBbox.csv\",\n",
    "    \"c1_binary_path\": \"/vast/imaging/Sabrina/New_new/883/883_MASK_C1.tif\",\n",
    "    \"c2_binary_path\": \"/vast/imaging/Sabrina/New_new/883/883_MASK_C2.tif\",\n",
    "    \"c3_binary_path\": \"/vast/imaging/Sabrina/New_new/883/883_MASK_C3_threshold40.tif\",\n",
    "    \"label_image\": \"/vast/imaging/Sabrina/New_new/883/tmpLbl.tif\",\n",
    "    \"vessel_binary\": \"/vast/imaging/Sabrina/New_new/883/883_MASK_C4_threshold195.tif\",\n",
    "    \"local_thickness\": \"/vast/imaging/Sabrina/New_new/883/tmp_locThk.tif\",\n",
    "}"
   ]
  },
  {
   "cell_type": "code",
   "execution_count": 5,
   "metadata": {},
   "outputs": [
    {
     "name": "stdout",
     "output_type": "stream",
     "text": [
      "All is well, continue\n"
     ]
    }
   ],
   "source": [
    "badFiles = 0\n",
    "for key in required_info:\n",
    "    val = required_info[key]\n",
    "    if os.path.exists(val):\n",
    "        pass\n",
    "    else:\n",
    "        badFiles+=1\n",
    "        print(\"%s filepath is incorrect\" % key)\n",
    "        \n",
    "if badFiles==0:\n",
    "    print(\"All is well, continue\")"
   ]
  },
  {
   "cell_type": "code",
   "execution_count": 6,
   "metadata": {},
   "outputs": [],
   "source": [
    "for_config_yaml = {\n",
    "    \"base_directory\" : base_directory,\n",
    "    \"csv_file\" : os.path.join(base_directory,os.path.split(required_info['csv_file'])[-1]),\n",
    "    \"raw_zarr_path\": os.path.join(base_directory,\n",
    "                                  os.path.split(os.path.splitext(required_info['raw_image'])[0])[-1]),\n",
    "    \"c1_zarr_path\": os.path.join(base_directory,\n",
    "                                 os.path.split(os.path.splitext(required_info['c1_binary_path'])[0])[-1]),\n",
    "    \"c2_zarr_path\": os.path.join(base_directory,\n",
    "                                 os.path.split(os.path.splitext(required_info['c2_binary_path'])[0])[-1]),\n",
    "    \"c3_zarr_path\": os.path.join(base_directory,\n",
    "                                 os.path.split(os.path.splitext(required_info['c3_binary_path'])[0])[-1]),\n",
    "    \"seg_zarr_path\": os.path.join(base_directory,\n",
    "                                  os.path.split(os.path.splitext(required_info['label_image'])[0])[-1]),\n",
    "    \"vessel_zarr_path\" : os.path.join(base_directory,\n",
    "                                  os.path.split(os.path.splitext(required_info['vessel_binary'])[0])[-1]),\n",
    "    \"voxel_sizes\": [2.916,1.2197,1.2197],\n",
    "    \"locThk_zarr_path\": os.path.join(base_directory,\n",
    "                                  os.path.split(os.path.splitext(required_info['local_thickness'])[0])[-1]),\n",
    "}\n",
    "\n"
   ]
  },
  {
   "cell_type": "code",
   "execution_count": 7,
   "metadata": {},
   "outputs": [],
   "source": [
    "with open(os.path.join(project_directory,'config.yml'),'w') as f:\n",
    "    x = yaml.dump(for_config_yaml,f)"
   ]
  },
  {
   "cell_type": "code",
   "execution_count": 8,
   "metadata": {},
   "outputs": [
    {
     "name": "stdout",
     "output_type": "stream",
     "text": [
      "\n",
      "LET'S ANALYSE SOME \n",
      "\n",
      "⠀⠀⠀⢠⣶⠶⠶⣦⣀⣴⡶⠿⠿⠷⣦⣤⣶⠾⠿⠿⢶⣦⣀⣴⡶⠾⠷⢶⣦⡀\n",
      "⠀⠀⣰⡿⠁⠀⢀⣿⡿⠁⠀⠀⠀⠀⡸⠋⠀⠀⡀⠀⠀⢹⡟⠁⠀⢀⠀⠀⠹⣷\n",
      "⠀⢠⡿⠁⠀⠀⣼⡿⠁⠀⠠⠶⢿⣿⠁⠀⢀⣾⣇⣀⣠⡞⠀⠀⢰⣿⠀⠀⢰⣿\n",
      "⢀⣿⠃⠀⠀⣼⣿⠃⠀⠀⠀⠀⣸⠃⠀⠀⡾⠁⠀⠈⣿⠁⠀⢠⣿⠇⠀⠀⣼⡇\n",
      "⣸⡏⠀⠀⠰⠿⡟⠀⠀⠸⠿⠿⣿⠀⠀⢸⣿⠂⠀⢀⡏⠀⠀⣼⡟⠀⠀⣰⡿⠀\n",
      "⣿⡇⠀⠀⠀⢀⣧⠀⠀⠀⠀⢀⣿⡀⠀⠀⠀⠀⣠⣾⣇⠀⠀⠀⠀⢀⣴⡿⠁⠀\n",
      "⠘⠿⣶⣶⡶⠿⠻⠷⣶⣶⡶⠿⠛⠿⣶⣶⣶⠿⠛⠉⠻⠷⣶⣶⡶⠿⠋⠀⠀⠀\n",
      "\n",
      "\n",
      "\n",
      "Copying 210513_Ms883_PACT clearing_lunglobe_lightsheet_stacktile-Dual Side Fusion-01.czi jobId 11851111\n",
      "Job 11851112 submitted to Milton - czi2zarr\n",
      "Copying 883_C1_Series2_2.0MedianFilter_RollingBall750.tif jobId 11851113\n",
      "Job 11851114 submitted to Milton - tiff2zarr\n",
      "Copying 883_C1_Series2.tif jobId 11851115\n",
      "Job 11851116 submitted to Milton - tiff2zarr\n",
      "Copying 883_C2_Series2_2.0MedianFilter_RollingBall750.tif jobId 11851117\n",
      "Job 11851118 submitted to Milton - tiff2zarr\n",
      "Copying 883_C2_Series2.tif jobId 11851119\n",
      "Job 11851120 submitted to Milton - tiff2zarr\n",
      "Copying 883_C3_Series2_2.0MedianFilter_RollingBall750.tif jobId 11851121\n",
      "Job 11851122 submitted to Milton - tiff2zarr\n",
      "Copying 883_C3_Series2.tif jobId 11851123\n",
      "Job 11851124 submitted to Milton - tiff2zarr\n",
      "Copying 883_C4_Series2.tif jobId 11851125\n",
      "Job 11851126 submitted to Milton - tiff2zarr\n",
      "Copying 883_MASK_C1.tif jobId 11851127\n",
      "Job 11851128 submitted to Milton - tiff2zarr\n",
      "Copying 883_MASK_C2.tif jobId 11851129\n",
      "Job 11851130 submitted to Milton - tiff2zarr\n",
      "Copying 883_MASK_C3_threshold40.tif jobId 11851131\n",
      "Job 11851132 submitted to Milton - tiff2zarr\n",
      "Copying 883_MASK_C4_threshold195_LocThk.tif jobId 11851133\n",
      "Job 11851134 submitted to Milton - tiff2zarr\n",
      "Copying 883_MASK_C4_threshold195.tif jobId 11851135\n",
      "Job 11851136 submitted to Milton - tiff2zarr\n",
      "Copying met_lbl.tif jobId 11851137\n",
      "Job 11851138 submitted to Milton - tiff2zarr\n",
      "Copying tmpLbl.tif jobId 11851139\n",
      "Job 11851140 submitted to Milton - tiff2zarr\n",
      "Copying tmp_locThk.tif jobId 11851141\n",
      "Job 11851142 submitted to Milton - tiff2zarr\n",
      "nMets is 91438\n",
      "---\n",
      "Once Zarr conversion is done - analysis will run:\n",
      "-\n",
      "Analysis job 11851143 submitted\n",
      "output directory exists\n",
      "Copying data back to output_mets\n",
      "Submitted batch job 11851144\n",
      "\n",
      "\n",
      "⠀⠀⠀⠀⠀⠀⠀⠀⠀⠀⠀⠀⣿⣿⣿⣿⣿⣿⠀⠀⠀⠀⠀⠀⠀⠀⠀⠀⠀⠀\n",
      "⠀⠀⠀⠀⠀⠀⠀⠀⠀⢠⣶⣶⣿⣿⣿⣿⣿⣿⣶⣶⡄⠀⠀⠀⠀⠀⠀⠀_____________________⠀⠀\n",
      "⠀⠀⠀⠀⠀⠀⠀⠀⠀⢸⣿⣿⣿⣿⣿⣿⣿⣿⣿⣿⡇⠀⠀⠀⠀⠀⠀/|⠀⠀⠀Jobs submitted   |\n",
      "⠀⠀⠀⠀⠀⠀⠀⠀⠀⢸⣿⣿⣿⣿⣿⣿⣿⣿⣿⣿⡇⠀⠀⠀⠀⠀/⠀|⠀⠀⠀ to Milton HPC   |\n",
      "⠀⠀⠀⠀⠀⠀⠀⠀⠀⢸⣿⣿⣿⣿⣿⣿⣿⣿⣿⣿⡇⠀___/⠀⠀|____________________|⠀⠀\n",
      "⠀⠀⠀⠀⠀⠀⠀⠀⠀⢸⣿⣿⣿⣿⣿⣿⣿⣿⣿⣿⡇⠀⠀⠀⠀⠀⠀⠀⠀⠀\n",
      "⠀⠀⠀⠀⠀⠀⠀⠀⠀⠀⠉⠻⠿⠿⠿⠿⠿⠿⠟⠉⠀⠀⠀⠀⠀⠀⠀⠀⠀⠀\n",
      "⠀⠀⠀⠀⠀⠀⣀⣀⢀⣶⣶⣶⣶⣶⣶⣶⣶⣶⣶⣶⣶⡀⣀⣀⠀⠀⠀⠀⠀⠀\n",
      "⠀⠀⠀⠀⢀⣼⣿⡿⢸⣿⣿⣿⣿⣿⣿⣿⣿⣿⣿⣿⣿⡇⢿⣿⣧⡀⠀⠀⠀⠀\n",
      "⠀⠀⠀⢀⣾⣿⣿⡇⣾⣿⣿⣿⣿⣿⣿⣿⣿⣿⣿⣿⣿⣷⢸⣿⣿⣷⡀⠀⠀⠀\n",
      "⠀⠀⠀⣼⣿⣿⣿⢀⣿⣿⣿⣿⣿⣿⣿⣿⣿⣿⣿⣿⣿⣿⡀⣿⣿⣿⣧⠀⠀⠀\n",
      "⠀⠀⣸⣿⣿⣿⡏⢸⣿⣿⣿⣿⣿⣿⣿⣿⣿⣿⣿⣿⣿⣿⡇⢹⣿⣿⣿⣇⠀⠀\n",
      "⠀⠀⣿⣿⣿⣿⠇⣿⣿⣿⣿⣿⣿⣿⣿⣿⣿⣿⣿⣿⣿⣿⣿⠸⣿⣿⣿⣿⠀⠀\n",
      "⠀⠀⣿⣿⣿⡿⢰⣿⣿⣿⣿⣿⣿⣿⣿⣿⣿⣿⣿⣿⣿⣿⣿⡆⢿⣿⣿⣿⠀⠀\n",
      "⠀⣠⣿⣿⣿⡇⠸⣿⣿⣿⣿⣿⣿⣿⣿⣿⣿⣿⣿⣿⣿⣿⣿⠇⢸⣿⣿⣿⣄⠀\n",
      "⣾⡿⠋⠉⢻⣷⡀⠛⠛⠛⠛⠛⠛⠛⠛⠛⠛⠛⠛⠛⠛⠛⠛⢀⣾⡟⠉⠙⢿⣷\n",
      "⢿⡇⠀⠀⢸⣿⠁⣿⣿⣿⣿⣿⣿⣿⣿⣿⣿⣿⣿⣿⣿⣿⣿⠈⣿⡇⠀⠀⢸⡿\n",
      "⠀⠀⠀⠀⠛⠁⠀⣿⣿⣿⣿⣿⣿⣿⣿⣿⣿⣿⣿⣿⣿⣿⣿⠀⠈⠛⠀⠀⠀⠀\n",
      "⠀⠀⠀⠀⠀⠀⠀⣿⣿⣿⣿⣿⣿⣿⣿⣿⣿⣿⣿⣿⣿⣿⣿⠀⠀⠀⠀⠀⠀⠀\n",
      "⠀⠀⠀⠀⠀⠀⠀⣿⣿⣿⣿⣿⣿⣿⡇⢸⣿⣿⣿⣿⣿⣿⣿⠀⠀⠀⠀⠀⠀⠀\n",
      "⠀⠀⠀⠀⠀⠀⠀⣿⣿⣿⣿⣿⣿⣿⡇⢸⣿⣿⣿⣿⣿⣿⣿⠀⠀⠀⠀⠀⠀⠀\n",
      "⠀⠀⠀⠀⠀⠀⠀⣿⣿⣿⣿⣿⣿⣿⡇⢸⣿⣿⣿⣿⣿⣿⣿⠀⠀⠀⠀⠀⠀⠀\n",
      "⠀⠀⠀⠀⠀⠀⠀⣤⣤⣤⣤⣤⣤⣤⡄⢠⣤⣤⣤⣤⣤⣤⣤⠀⠀⠀⠀⠀⠀⠀\n",
      "⠀⠀⠀⠀⠀⠀⠀⣿⣿⣿⣿⣿⣿⣿⡇⢸⣿⣿⣿⣿⣿⣿⣿⠀⠀⠀⠀⠀\n",
      "\n",
      "⠀⠀\n"
     ]
    }
   ],
   "source": [
    "!bash run_lego_analysis_w_copy.sh {project_directory} {base_directory}\n"
   ]
  },
  {
   "cell_type": "code",
   "execution_count": 9,
   "metadata": {},
   "outputs": [
    {
     "name": "stdout",
     "output_type": "stream",
     "text": [
      "             JOBID PARTITION     NAME     USER ST       TIME  NODES NODELIST(REASON)\r\n",
      "          11851142   regular tif2zarr whitehea PD       0:00      1 (Resources)\r\n",
      "          11851140   regular tif2zarr whitehea PD       0:00      1 (Resources)\r\n",
      "          11851138   regular tif2zarr whitehea PD       0:00      1 (Resources)\r\n",
      "          11851136   regular tif2zarr whitehea PD       0:00      1 (Resources)\r\n",
      "          11851134   regular tif2zarr whitehea PD       0:00      1 (Resources)\r\n",
      "          11851132   regular tif2zarr whitehea PD       0:00      1 (Resources)\r\n",
      "          11851130   regular tif2zarr whitehea PD       0:00      1 (Resources)\r\n",
      "          11851114   regular tif2zarr whitehea  R       0:01      1 med-n22\r\n",
      "          11851116   regular tif2zarr whitehea  R       0:01      1 med-n19\r\n",
      "          11851118   regular tif2zarr whitehea  R       0:01      1 med-n18\r\n",
      "          11851120   regular tif2zarr whitehea  R       0:01      1 il-n01\r\n",
      "          11851122   regular tif2zarr whitehea  R       0:01      1 il-n08\r\n",
      "          11851124   regular tif2zarr whitehea  R       0:01      1 lrg-n03\r\n",
      "          11851126   regular tif2zarr whitehea  R       0:01      1 lrg-n04\r\n",
      "          11851128   regular tif2zarr whitehea  R       0:01      1 lrg-n04\r\n",
      "          11851103   regular sys/dash whitehea  R       0:56      1 sml-n08\r\n"
     ]
    }
   ],
   "source": [
    "!squeue -u whitehead"
   ]
  },
  {
   "cell_type": "code",
   "execution_count": null,
   "metadata": {},
   "outputs": [],
   "source": []
  }
 ],
 "metadata": {
  "kernelspec": {
   "display_name": "Python (lego)",
   "language": "python",
   "name": "lego_on_demand"
  },
  "language_info": {
   "codemirror_mode": {
    "name": "ipython",
    "version": 3
   },
   "file_extension": ".py",
   "mimetype": "text/x-python",
   "name": "python",
   "nbconvert_exporter": "python",
   "pygments_lexer": "ipython3",
   "version": "3.9.16"
  }
 },
 "nbformat": 4,
 "nbformat_minor": 4
}
