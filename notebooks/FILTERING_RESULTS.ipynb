{
 "cells": [
  {
   "cell_type": "code",
   "execution_count": 41,
   "metadata": {},
   "outputs": [],
   "source": [
    "import os\n",
    "import numpy as np\n",
    "import re\n",
    "import csv\n"
   ]
  },
  {
   "cell_type": "markdown",
   "metadata": {},
   "source": [
    "# Do the prevalidation files"
   ]
  },
  {
   "cell_type": "code",
   "execution_count": 65,
   "metadata": {},
   "outputs": [],
   "source": [
    "results_type = 'preValidated'\n",
    "dataset = 1076\n",
    "\n",
    "\n",
    "dataset_location = \"/vast/imaging/Sabrina/New_new/%i\" % dataset\n",
    "res_file = \"20230516_%s_%i_results.csv\" % (results_type,dataset)\n",
    "fpath = os.path.join(dataset_location,res_file)\n",
    "\n",
    "\n",
    "output_file = \"20230516_%s_%i_FILTERED_results.csv\" % (results_type,dataset)\n",
    "dodgy_file = \"20230516_%s_%i_deleted_results.csv\" % (results_type,dataset)\n",
    "\n",
    "output_file_path = os.path.join(dataset_location, output_file)\n",
    "dodgy_file_path = os.path.join(dataset_location, dodgy_file)\n"
   ]
  },
  {
   "cell_type": "code",
   "execution_count": 66,
   "metadata": {},
   "outputs": [
    {
     "name": "stdout",
     "output_type": "stream",
     "text": [
      "There are 353 good rows and 59 bad ones\n"
     ]
    }
   ],
   "source": [
    "headings = []\n",
    "validation_output = []\n",
    "dodgy_output = []\n",
    "with open(fpath,'r') as f:\n",
    "    for line_number,l in enumerate(f):             \n",
    "        l = l.split(',')\n",
    "        note = l[-1].lower().strip()\n",
    "        distances = [s.lower() for s in l[-5:-1]]\n",
    "        l = [s.strip() for s in l]\n",
    "        \n",
    "        if line_number == 0:\n",
    "            #get headings\n",
    "            headings = l #for the post-validation file\n",
    "            validation_output.append(l)\n",
    "            dodgy_output.append(l)\n",
    "        \n",
    "        elif re.match(r'delete',note):\n",
    "            #Line marked for deletion\n",
    "            pass\n",
    "                \n",
    "        elif re.match(r'dunno',distances[-1]):\n",
    "            #outside region\n",
    "            dodgy_output.append(l)\n",
    "        \n",
    "        elif re.match(r'nan',distances[-1]):\n",
    "            #found a nan\n",
    "            dodgy_output.append(l)\n",
    "        \n",
    "        else:\n",
    "            validation_output.append(l)\n",
    "            #print(line_number,l)\n",
    "\n",
    "print(\"There are %i good rows and %i bad ones\" % (len(validation_output),len(dodgy_output)))"
   ]
  },
  {
   "cell_type": "code",
   "execution_count": 67,
   "metadata": {},
   "outputs": [],
   "source": [
    "with open(output_file_path,'w',newline='') as f:\n",
    "    writer = csv.writer(f)\n",
    "    writer.writerows(validation_output)\n",
    "\n",
    "with open(dodgy_file_path,'w',newline='') as f:\n",
    "    writer = csv.writer(f)\n",
    "    writer.writerows(dodgy_output)"
   ]
  },
  {
   "cell_type": "markdown",
   "metadata": {},
   "source": [
    "# Now do the validated\n",
    "\n"
   ]
  },
  {
   "cell_type": "code",
   "execution_count": 68,
   "metadata": {},
   "outputs": [],
   "source": [
    "results_type = 'validated'\n",
    "\n",
    "dataset_location = \"/vast/imaging/Sabrina/New_new/%i\" % dataset\n",
    "res_file = \"20230516_%s_%i_results.csv\" % (results_type,dataset)\n",
    "fpath = os.path.join(dataset_location,res_file)\n",
    "\n",
    "\n",
    "output_file = \"20230516_%s_%i_FILTERED_results.csv\" % (results_type,dataset)\n",
    "dodgy_file = \"20230516_%s_%i_deleted_results.csv\" % (results_type,dataset)\n",
    "\n",
    "output_file_path = os.path.join(dataset_location, output_file)\n",
    "dodgy_file_path = os.path.join(dataset_location, dodgy_file)\n"
   ]
  },
  {
   "cell_type": "code",
   "execution_count": 69,
   "metadata": {},
   "outputs": [
    {
     "name": "stdout",
     "output_type": "stream",
     "text": [
      "There are 353 good rows and 59 bad ones\n"
     ]
    }
   ],
   "source": [
    "validation_output = []\n",
    "dodgy_output = []\n",
    "validation_output.append(headings)\n",
    "dodgy_output.append(headings)\n",
    "\n",
    "with open(fpath,'r') as f:\n",
    "    for line_number,l in enumerate(f):             \n",
    "        l = l.split(',')\n",
    "        note = l[-1].lower().strip()\n",
    "        distances = [s.lower() for s in l[-5:-1]]\n",
    "        l = [s.strip() for s in l]\n",
    "        \n",
    "        if re.match(r'delete',note):\n",
    "            #Line marked for deletion\n",
    "            pass\n",
    "                \n",
    "        elif re.match(r'dunno',distances[-1]):\n",
    "            #outside region\n",
    "            dodgy_output.append(l)\n",
    "        \n",
    "        elif re.match(r'nan',distances[-1]):\n",
    "            #found a nan\n",
    "            dodgy_output.append(l)\n",
    "        \n",
    "        else:\n",
    "            validation_output.append(l)\n",
    "            #print(line_number,l)\n",
    "\n",
    "print(\"There are %i good rows and %i bad ones\" % (len(validation_output),len(dodgy_output)))\n",
    "\n"
   ]
  },
  {
   "cell_type": "code",
   "execution_count": 70,
   "metadata": {},
   "outputs": [],
   "source": [
    "with open(output_file_path,'w',newline='') as f:\n",
    "    writer = csv.writer(f)\n",
    "    writer.writerows(validation_output)\n",
    "\n",
    "with open(dodgy_file_path,'w',newline='') as f:\n",
    "    writer = csv.writer(f)\n",
    "    writer.writerows(dodgy_output)"
   ]
  },
  {
   "cell_type": "code",
   "execution_count": null,
   "metadata": {},
   "outputs": [],
   "source": []
  }
 ],
 "metadata": {
  "kernelspec": {
   "display_name": "Python (bac2)",
   "language": "python",
   "name": "bac2"
  },
  "language_info": {
   "codemirror_mode": {
    "name": "ipython",
    "version": 3
   },
   "file_extension": ".py",
   "mimetype": "text/x-python",
   "name": "python",
   "nbconvert_exporter": "python",
   "pygments_lexer": "ipython3",
   "version": "3.9.15"
  }
 },
 "nbformat": 4,
 "nbformat_minor": 4
}
